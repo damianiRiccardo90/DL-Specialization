{
  "nbformat": 4,
  "nbformat_minor": 0,
  "metadata": {
    "kernelspec": {
      "display_name": "Python 3",
      "language": "python",
      "name": "python3"
    },
    "language_info": {
      "codemirror_mode": {
        "name": "ipython",
        "version": 3
      },
      "file_extension": ".py",
      "mimetype": "text/x-python",
      "name": "python",
      "nbconvert_exporter": "python",
      "pygments_lexer": "ipython3",
      "version": "3.6.0"
    },
    "colab": {
      "name": "Keras_Tutorial_v2a.ipynb",
      "provenance": [],
      "include_colab_link": true
    }
  },
  "cells": [
    {
      "cell_type": "markdown",
      "metadata": {
        "id": "view-in-github",
        "colab_type": "text"
      },
      "source": [
        "<a href=\"https://colab.research.google.com/github/damianiRiccardo90/DL-Specialization/blob/master/C4-Convolutional_Neural_Networks/W2-Deep_convolutional_models_case_studies/Keras_Tutorial_v2a.ipynb\" target=\"_parent\"><img src=\"https://colab.research.google.com/assets/colab-badge.svg\" alt=\"Open In Colab\"/></a>"
      ]
    },
    {
      "cell_type": "markdown",
      "metadata": {
        "id": "GYY_YbEC7_Wk"
      },
      "source": [
        "# Keras tutorial - Emotion Detection in Images of Faces\n",
        "\n",
        "Welcome to the first assignment of week 2. In this assignment, you will:\n",
        "1. Learn to use Keras, a high-level neural networks API (programming framework), written in Python and capable of running on top of several lower-level frameworks including TensorFlow and CNTK. \n",
        "2. See how you can in a couple of hours build a deep learning algorithm.\n",
        "\n",
        "#### Why are we using Keras? \n",
        "\n",
        "* Keras was developed to enable deep learning engineers to build and experiment with different models very quickly. \n",
        "* Just as TensorFlow is a higher-level framework than Python, Keras is an even higher-level framework and provides additional abstractions. \n",
        "* Being able to go from idea to result with the least possible delay is key to finding good models. \n",
        "* However, Keras is more restrictive than the lower-level frameworks, so there are some very complex models that you would still implement in TensorFlow rather than in Keras. \n",
        "* That being said, Keras will work fine for many common models. "
      ]
    },
    {
      "cell_type": "markdown",
      "metadata": {
        "id": "-EwB2r5_7_Wp"
      },
      "source": [
        "## <font color='darkblue'>Updates</font>\n",
        "\n",
        "#### If you were working on the notebook before this update...\n",
        "* The current notebook is version \"v2a\".\n",
        "* You can find your original work saved in the notebook with the previous version name (\"v2\").\n",
        "* To view the file directory, go to the menu \"File->Open\", and this will open a new tab that shows the file directory.\n",
        "\n",
        "#### List of updates\n",
        "* Changed back-story of model to \"emotion detection\" from \"happy house.\"\n",
        "* Cleaned/organized wording of instructions and commentary.\n",
        "* Added instructions on how to set `input_shape`\n",
        "* Added explanation of \"objects as functions\" syntax.\n",
        "* Clarified explanation of variable naming convention.\n",
        "* Added hints for steps 1,2,3,4"
      ]
    },
    {
      "cell_type": "markdown",
      "metadata": {
        "id": "dKoqBwi37_Wr"
      },
      "source": [
        "## Load packages\n",
        "* In this exercise, you'll work on the \"Emotion detection\" model, which we'll explain below. \n",
        "* Let's load the required packages."
      ]
    },
    {
      "cell_type": "code",
      "metadata": {
        "id": "j8DvQVPr8kZf"
      },
      "source": [
        "# Clone repository, necessary for importing stuff to Colab environment\n",
        "import os\n",
        "from subprocess import getoutput\n",
        "getoutput(\"git clone -l -s https://github.com/damianiRiccardo90/DL-Specialization DL-Specialization\")\n",
        "os.chdir(\"DL-Specialization/C4-Convolutional_Neural_Networks/W2-Deep_convolutional_models_case_studies\")"
      ],
      "execution_count": 16,
      "outputs": []
    },
    {
      "cell_type": "code",
      "metadata": {
        "collapsed": true,
        "id": "N-JspY3Z7_Ws"
      },
      "source": [
        "import numpy as np\n",
        "from keras import layers\n",
        "from keras.layers import Input, Dense, Activation, ZeroPadding2D, BatchNormalization, Flatten, Conv2D\n",
        "from keras.layers import AveragePooling2D, MaxPooling2D, Dropout, GlobalMaxPooling2D, GlobalAveragePooling2D\n",
        "from keras.models import Model\n",
        "from keras.preprocessing import image\n",
        "from keras.utils import layer_utils\n",
        "from keras.utils.data_utils import get_file\n",
        "from keras.applications.imagenet_utils import preprocess_input\n",
        "import pydot\n",
        "from IPython.display import SVG\n",
        "from keras.utils.vis_utils import model_to_dot\n",
        "from keras.utils.vis_utils import plot_model\n",
        "from kt_utils import *\n",
        "\n",
        "import keras.backend as K\n",
        "K.set_image_data_format('channels_last')\n",
        "import matplotlib.pyplot as plt\n",
        "from matplotlib.pyplot import imshow\n",
        "\n",
        "%matplotlib inline"
      ],
      "execution_count": 2,
      "outputs": []
    },
    {
      "cell_type": "markdown",
      "metadata": {
        "id": "l_d_sABC7_Wt"
      },
      "source": [
        "**Note**: As you can see, we've imported a lot of functions from Keras. You can use them by calling them directly in your code. Ex: `X = Input(...)` or `X = ZeroPadding2D(...)`. \n",
        "\n",
        "In other words, unlike TensorFlow, you don't have to create the graph and then make a separate `sess.run()` call to evaluate those variables."
      ]
    },
    {
      "cell_type": "markdown",
      "metadata": {
        "id": "lRgG0wIK7_Wt"
      },
      "source": [
        "## 1 - Emotion Tracking\n",
        "\n",
        "* A nearby community health clinic is helping the local residents monitor their mental health.  \n",
        "* As part of their study, they are asking volunteers to record their emotions throughout the day.\n",
        "* To help the participants more easily track their emotions, you are asked to create an app that will classify their emotions based on some pictures that the volunteers will take of their facial expressions.\n",
        "* As a proof-of-concept, you first train your model to detect if someone's emotion is classified as \"happy\" or \"not happy.\"\n",
        "\n",
        "To build and train this model, you have gathered pictures of some volunteers in a nearby neighborhood. The dataset is labeled.\n",
        "<img src=\"https://github.com/damianiRiccardo90/DL-Specialization/blob/master/C4-Convolutional_Neural_Networks/W2-Deep_convolutional_models_case_studies/images/face_images.png?raw=1\" style=\"width:550px;height:250px;\">\n",
        "\n",
        "Run the following code to normalize the dataset and learn about its shapes."
      ]
    },
    {
      "cell_type": "code",
      "metadata": {
        "collapsed": true,
        "id": "QSIv7Re_7_Wv",
        "colab": {
          "base_uri": "https://localhost:8080/"
        },
        "outputId": "3f288a83-26b7-4df7-b0ad-04b0566d2b5c"
      },
      "source": [
        "X_train_orig, Y_train_orig, X_test_orig, Y_test_orig, classes = load_dataset()\n",
        "\n",
        "# Normalize image vectors\n",
        "X_train = X_train_orig/255.\n",
        "X_test = X_test_orig/255.\n",
        "\n",
        "# Reshape\n",
        "Y_train = Y_train_orig.T\n",
        "Y_test = Y_test_orig.T\n",
        "\n",
        "print (\"number of training examples = \" + str(X_train.shape[0]))\n",
        "print (\"number of test examples = \" + str(X_test.shape[0]))\n",
        "print (\"X_train shape: \" + str(X_train.shape))\n",
        "print (\"Y_train shape: \" + str(Y_train.shape))\n",
        "print (\"X_test shape: \" + str(X_test.shape))\n",
        "print (\"Y_test shape: \" + str(Y_test.shape))"
      ],
      "execution_count": 3,
      "outputs": [
        {
          "output_type": "stream",
          "text": [
            "number of training examples = 600\n",
            "number of test examples = 150\n",
            "X_train shape: (600, 64, 64, 3)\n",
            "Y_train shape: (600, 1)\n",
            "X_test shape: (150, 64, 64, 3)\n",
            "Y_test shape: (150, 1)\n"
          ],
          "name": "stdout"
        }
      ]
    },
    {
      "cell_type": "markdown",
      "metadata": {
        "id": "KpTKRfar7_Wv"
      },
      "source": [
        "**Details of the \"Face\" dataset**:\n",
        "- Images are of shape (64,64,3)\n",
        "- Training: 600 pictures\n",
        "- Test: 150 pictures"
      ]
    },
    {
      "cell_type": "markdown",
      "metadata": {
        "id": "4tiIDKUC7_Wx"
      },
      "source": [
        "## 2 - Building a model in Keras\n",
        "\n",
        "Keras is very good for rapid prototyping. In just a short time you will be able to build a model that achieves outstanding results.\n",
        "\n",
        "Here is an example of a model in Keras:\n",
        "\n",
        "```python\n",
        "def model(input_shape):\n",
        "    \"\"\"\n",
        "    input_shape: The height, width and channels as a tuple.  \n",
        "        Note that this does not include the 'batch' as a dimension.\n",
        "        If you have a batch like 'X_train', \n",
        "        then you can provide the input_shape using\n",
        "        X_train.shape[1:]\n",
        "    \"\"\"\n",
        "    \n",
        "    # Define the input placeholder as a tensor with shape input_shape. Think of this as your input image!\n",
        "    X_input = Input(input_shape)\n",
        "\n",
        "    # Zero-Padding: pads the border of X_input with zeroes\n",
        "    X = ZeroPadding2D((3, 3))(X_input)\n",
        "\n",
        "    # CONV -> BN -> RELU Block applied to X\n",
        "    X = Conv2D(32, (7, 7), strides = (1, 1), name = 'conv0')(X)\n",
        "    X = BatchNormalization(axis = 3, name = 'bn0')(X)\n",
        "    X = Activation('relu')(X)\n",
        "\n",
        "    # MAXPOOL\n",
        "    X = MaxPooling2D((2, 2), name='max_pool')(X)\n",
        "\n",
        "    # FLATTEN X (means convert it to a vector) + FULLYCONNECTED\n",
        "    X = Flatten()(X)\n",
        "    X = Dense(1, activation='sigmoid', name='fc')(X)\n",
        "\n",
        "    # Create model. This creates your Keras model instance, you'll use this instance to train/test the model.\n",
        "    model = Model(inputs = X_input, outputs = X, name='HappyModel')\n",
        "    \n",
        "    return model\n",
        "```"
      ]
    },
    {
      "cell_type": "markdown",
      "metadata": {
        "id": "NnnPrvjP7_Wz"
      },
      "source": [
        "#### Variable naming convention\n",
        "\n",
        "* Note that Keras uses a different convention with variable names than we've previously used with numpy and TensorFlow. \n",
        "* Instead of creating unique variable names for each step and each layer, such as \n",
        "```\n",
        "X = ...\n",
        "Z1 = ...\n",
        "A1 = ...\n",
        "```\n",
        "* Keras re-uses and overwrites the same variable at each step:\n",
        "```\n",
        "X = ...\n",
        "X = ...\n",
        "X = ...\n",
        "```\n",
        "* The exception is `X_input`, which we kept separate since it's needed later."
      ]
    },
    {
      "cell_type": "markdown",
      "metadata": {
        "id": "z8F9lfs87_W0"
      },
      "source": [
        "#### Objects as functions\n",
        "* Notice how there are two pairs of parentheses in each statement.  For example:\n",
        "```\n",
        "X = ZeroPadding2D((3, 3))(X_input)\n",
        "```\n",
        "* The first is a constructor call which creates an object (ZeroPadding2D).\n",
        "* In Python, objects can be called as functions. Search for 'python object as function and you can read this blog post [Python Pandemonium](https://medium.com/python-pandemonium/function-as-objects-in-python-d5215e6d1b0d).  See the section titled \"Objects as functions.\"\n",
        "* The single line is equivalent to this:\n",
        "```\n",
        "ZP = ZeroPadding2D((3, 3)) # ZP is an object that can be called as a function\n",
        "X = ZP(X_input) \n",
        "```"
      ]
    },
    {
      "cell_type": "markdown",
      "metadata": {
        "id": "WeFUy8gR7_W1"
      },
      "source": [
        "**Exercise**: Implement a `HappyModel()`.  \n",
        "* This assignment is more open-ended than most. \n",
        "* Start by implementing a model using the architecture we suggest, and run through the rest of this assignment using that as your initial model. * Later, come back and try out other model architectures. \n",
        "* For example, you might take inspiration from the model above, but then vary the network architecture and hyperparameters however you wish. \n",
        "* You can also use other functions such as `AveragePooling2D()`, `GlobalMaxPooling2D()`, `Dropout()`. \n",
        "\n",
        "**Note**: Be careful with your data's shapes. Use what you've learned in the videos to make sure your convolutional, pooling and fully-connected layers are adapted to the volumes you're applying it to."
      ]
    },
    {
      "cell_type": "code",
      "metadata": {
        "collapsed": true,
        "id": "XPoooGdd7_W1"
      },
      "source": [
        "# GRADED FUNCTION: HappyModel\n",
        "\n",
        "def HappyModel(input_shape):\n",
        "    \"\"\"\n",
        "    Implementation of the HappyModel.\n",
        "    \n",
        "    Arguments:\n",
        "    input_shape -- shape of the images of the dataset\n",
        "        (height, width, channels) as a tuple.  \n",
        "        Note that this does not include the 'batch' as a dimension.\n",
        "        If you have a batch like 'X_train', \n",
        "        then you can provide the input_shape using\n",
        "        X_train.shape[1:]\n",
        "    Returns:\n",
        "        model -- a Model() instance in Keras\n",
        "    \"\"\"\n",
        "    \n",
        "    ### START CODE HERE ###\n",
        "    # Feel free to use the suggested outline in the text above to get started, and run through the whole\n",
        "    # exercise (including the later portions of this notebook) once. The come back also try out other\n",
        "    # network architectures as well. \n",
        "    \n",
        "    X_input = Input(input_shape)\n",
        " \n",
        "    X = ZeroPadding2D((3, 3))(X_input)\n",
        "\n",
        "    X = Conv2D(32, (7, 7), strides = (1, 1), name = 'conv0')(X)\n",
        "    X = BatchNormalization(axis = 3, name = 'bn0')(X)\n",
        "    X = Activation('relu')(X)\n",
        " \n",
        "    X = MaxPooling2D((2, 2), name='max_pool')(X)\n",
        " \n",
        "    X = Flatten()(X)\n",
        "    X = Dense(1, activation='sigmoid', name='fc')(X)\n",
        " \n",
        "    model = Model(inputs = X_input, outputs = X, name='HappyModel')\n",
        "    \n",
        "    ### END CODE HERE ###\n",
        "    \n",
        "    return model"
      ],
      "execution_count": 4,
      "outputs": []
    },
    {
      "cell_type": "markdown",
      "metadata": {
        "id": "Dm_HvxLJ7_W2"
      },
      "source": [
        "You have now built a function to describe your model. To train and test this model, there are four steps in Keras:\n",
        "1. Create the model by calling the function above  \n",
        "\n",
        "2. Compile the model by calling `model.compile(optimizer = \"...\", loss = \"...\", metrics = [\"accuracy\"])`  \n",
        "\n",
        "3. Train the model on train data by calling `model.fit(x = ..., y = ..., epochs = ..., batch_size = ...)`  \n",
        "\n",
        "4. Test the model on test data by calling `model.evaluate(x = ..., y = ...)`  \n",
        "\n",
        "If you want to know more about `model.compile()`, `model.fit()`, `model.evaluate()` and their arguments, refer to the official [Keras documentation](https://keras.io/models/model/)."
      ]
    },
    {
      "cell_type": "markdown",
      "metadata": {
        "id": "z3TqwLMa7_W3"
      },
      "source": [
        "#### Step 1: create the model.  \n",
        "**Hint**:  \n",
        "The `input_shape` parameter is a tuple (height, width, channels).  It excludes the batch number.  \n",
        "Try `X_train.shape[1:]` as the `input_shape`."
      ]
    },
    {
      "cell_type": "code",
      "metadata": {
        "collapsed": true,
        "id": "-vQLINB57_W3"
      },
      "source": [
        "### START CODE HERE ### (1 line)\n",
        "happyModel = HappyModel(X_train.shape[1:])\n",
        "### END CODE HERE ###"
      ],
      "execution_count": 5,
      "outputs": []
    },
    {
      "cell_type": "markdown",
      "metadata": {
        "id": "pUxpzG6b7_W4"
      },
      "source": [
        "#### Step 2: compile the model\n",
        "\n",
        "**Hint**:  \n",
        "Optimizers you can try include `'adam'`, `'sgd'` or others.  See the documentation for [optimizers](https://keras.io/optimizers/)  \n",
        "The \"happiness detection\" is a binary classification problem.  The loss function that you can use is `'binary_cross_entropy'`.  Note that `'categorical_cross_entropy'` won't work with your data set as its formatted, because the data is an array of 0 or 1 rather than two arrays (one for each category).  Documentation for [losses](https://keras.io/losses/)"
      ]
    },
    {
      "cell_type": "code",
      "metadata": {
        "collapsed": true,
        "id": "1DttVLuK7_W4"
      },
      "source": [
        "### START CODE HERE ### (1 line)\n",
        "happyModel.compile(loss = 'binary_crossentropy', optimizer = \"Adam\", metrics = ['accuracy'])\n",
        "### END CODE HERE ###"
      ],
      "execution_count": 8,
      "outputs": []
    },
    {
      "cell_type": "markdown",
      "metadata": {
        "id": "MNPf09QT7_W4"
      },
      "source": [
        "#### Step 3: train the model\n",
        "\n",
        "**Hint**:  \n",
        "Use the `'X_train'`, `'Y_train'` variables.  Use integers for the epochs and batch_size\n",
        "\n",
        "**Note**: If you run `fit()` again, the `model` will continue to train with the parameters it has already learned instead of reinitializing them."
      ]
    },
    {
      "cell_type": "code",
      "metadata": {
        "id": "FxOBCZo37_W5",
        "colab": {
          "base_uri": "https://localhost:8080/"
        },
        "outputId": "7bc8aced-8f57-4a77-d141-abdf54d2d9bb"
      },
      "source": [
        "### START CODE HERE ### (1 line)\n",
        "happyModel.fit(x = X_train, y = Y_train, epochs = 20, batch_size = 100)\n",
        "### END CODE HERE ###"
      ],
      "execution_count": 11,
      "outputs": [
        {
          "output_type": "stream",
          "text": [
            "Epoch 1/20\n",
            "6/6 [==============================] - 4s 663ms/step - loss: 0.0500 - accuracy: 0.9917\n",
            "Epoch 2/20\n",
            "6/6 [==============================] - 4s 651ms/step - loss: 0.0449 - accuracy: 0.9900\n",
            "Epoch 3/20\n",
            "6/6 [==============================] - 4s 646ms/step - loss: 0.0403 - accuracy: 0.9917\n",
            "Epoch 4/20\n",
            "6/6 [==============================] - 4s 656ms/step - loss: 0.0391 - accuracy: 0.9933\n",
            "Epoch 5/20\n",
            "6/6 [==============================] - 4s 663ms/step - loss: 0.0385 - accuracy: 0.9933\n",
            "Epoch 6/20\n",
            "6/6 [==============================] - 4s 661ms/step - loss: 0.0351 - accuracy: 0.9900\n",
            "Epoch 7/20\n",
            "6/6 [==============================] - 4s 659ms/step - loss: 0.0342 - accuracy: 0.9917\n",
            "Epoch 8/20\n",
            "6/6 [==============================] - 4s 667ms/step - loss: 0.0347 - accuracy: 0.9967\n",
            "Epoch 9/20\n",
            "6/6 [==============================] - 4s 654ms/step - loss: 0.0302 - accuracy: 0.9933\n",
            "Epoch 10/20\n",
            "6/6 [==============================] - 4s 652ms/step - loss: 0.0329 - accuracy: 0.9917\n",
            "Epoch 11/20\n",
            "6/6 [==============================] - 4s 643ms/step - loss: 0.0306 - accuracy: 0.9950\n",
            "Epoch 12/20\n",
            "6/6 [==============================] - 4s 684ms/step - loss: 0.0275 - accuracy: 0.9950\n",
            "Epoch 13/20\n",
            "6/6 [==============================] - 4s 660ms/step - loss: 0.0304 - accuracy: 0.9933\n",
            "Epoch 14/20\n",
            "6/6 [==============================] - 4s 666ms/step - loss: 0.0244 - accuracy: 0.9967\n",
            "Epoch 15/20\n",
            "6/6 [==============================] - 4s 663ms/step - loss: 0.0320 - accuracy: 0.9917\n",
            "Epoch 16/20\n",
            "6/6 [==============================] - 4s 686ms/step - loss: 0.0263 - accuracy: 0.9933\n",
            "Epoch 17/20\n",
            "6/6 [==============================] - 4s 668ms/step - loss: 0.0260 - accuracy: 0.9917\n",
            "Epoch 18/20\n",
            "6/6 [==============================] - 4s 636ms/step - loss: 0.0188 - accuracy: 0.9967\n",
            "Epoch 19/20\n",
            "6/6 [==============================] - 4s 673ms/step - loss: 0.0200 - accuracy: 0.9983\n",
            "Epoch 20/20\n",
            "6/6 [==============================] - 4s 650ms/step - loss: 0.0213 - accuracy: 0.9933\n"
          ],
          "name": "stdout"
        },
        {
          "output_type": "execute_result",
          "data": {
            "text/plain": [
              "<keras.callbacks.History at 0x7f90407f48d0>"
            ]
          },
          "metadata": {},
          "execution_count": 11
        }
      ]
    },
    {
      "cell_type": "markdown",
      "metadata": {
        "id": "EeHr8KaU7_W5"
      },
      "source": [
        "#### Step 4: evaluate model  \n",
        "**Hint**:  \n",
        "Use the `'X_test'` and `'Y_test'` variables to evaluate the model's performance."
      ]
    },
    {
      "cell_type": "code",
      "metadata": {
        "collapsed": true,
        "scrolled": true,
        "id": "1dtqMjbv7_W5",
        "outputId": "d9833bac-be1e-4243-f142-c72295523f55",
        "colab": {
          "base_uri": "https://localhost:8080/"
        }
      },
      "source": [
        "### START CODE HERE ### (1 line)\n",
        "preds = happyModel.evaluate(x = X_test, y = Y_test)\n",
        "### END CODE HERE ###\n",
        "print()\n",
        "print (\"Loss = \" + str(preds[0]))\n",
        "print (\"Test Accuracy = \" + str(preds[1]))"
      ],
      "execution_count": 13,
      "outputs": [
        {
          "output_type": "stream",
          "text": [
            "5/5 [==============================] - 19s 53ms/step - loss: 0.2277 - accuracy: 0.9600\n",
            "\n",
            "Loss = 0.22767721116542816\n",
            "Test Accuracy = 0.9599999785423279\n"
          ],
          "name": "stdout"
        }
      ]
    },
    {
      "cell_type": "markdown",
      "metadata": {
        "id": "q0KetLfO7_W6"
      },
      "source": [
        "#### Expected performance   \n",
        "If your `happyModel()` function worked, its accuracy should be better than random guessing (50% accuracy).\n",
        "\n",
        "To give you a point of comparison, our model gets around **95% test accuracy in 40 epochs** (and 99% train accuracy) with a mini batch size of 16 and \"adam\" optimizer."
      ]
    },
    {
      "cell_type": "markdown",
      "metadata": {
        "id": "MbfekPYl7_W6"
      },
      "source": [
        "#### Tips for improving your model\n",
        "\n",
        "If you have not yet achieved a very good accuracy (>= 80%), here are some things tips:\n",
        "\n",
        "- Use blocks of CONV->BATCHNORM->RELU such as:\n",
        "```python\n",
        "X = Conv2D(32, (3, 3), strides = (1, 1), name = 'conv0')(X)\n",
        "X = BatchNormalization(axis = 3, name = 'bn0')(X)\n",
        "X = Activation('relu')(X)\n",
        "```\n",
        "until your height and width dimensions are quite low and your number of channels quite large (≈32 for example).  \n",
        "You can then flatten the volume and use a fully-connected layer.\n",
        "- Use MAXPOOL after such blocks.  It will help you lower the dimension in height and width.\n",
        "- Change your optimizer. We find 'adam' works well. \n",
        "- If you get memory issues, lower your batch_size (e.g. 12 )\n",
        "- Run more epochs until you see the train accuracy no longer improves. \n",
        "\n",
        "**Note**: If you perform hyperparameter tuning on your model, the test set actually becomes a dev set, and your model might end up overfitting to the test (dev) set. Normally, you'll want separate dev and test sets.  The dev set is used for parameter tuning, and the test set is used once to estimate the model's performance in production."
      ]
    },
    {
      "cell_type": "markdown",
      "metadata": {
        "id": "xux79zcH7_W6"
      },
      "source": [
        "## 3 - Conclusion\n",
        "\n",
        "Congratulations, you have created a proof of concept for \"happiness detection\"!"
      ]
    },
    {
      "cell_type": "markdown",
      "metadata": {
        "id": "fQJILqms7_W6"
      },
      "source": [
        "## Key Points to remember\n",
        "- Keras is a tool we recommend for rapid prototyping. It allows you to quickly try out different model architectures.\n",
        "- Remember The four steps in Keras: \n",
        "\n",
        "\n",
        "1. Create  \n",
        "2. Compile  \n",
        "3. Fit/Train  \n",
        "4. Evaluate/Test  "
      ]
    },
    {
      "cell_type": "markdown",
      "metadata": {
        "id": "4SpF5HtC7_W7"
      },
      "source": [
        "## 4 - Test with your own image (Optional)\n",
        "\n",
        "Congratulations on finishing this assignment. You can now take a picture of your face and see if it can classify whether your expression is \"happy\" or \"not happy\". To do that:\n",
        "\n",
        "\n",
        "1. Click on \"File\" in the upper bar of this notebook, then click \"Open\" to go on your Coursera Hub.\n",
        "2. Add your image to this Jupyter Notebook's directory, in the \"images\" folder\n",
        "3. Write your image's name in the following code\n",
        "4. Run the code and check if the algorithm is right (0 is not happy, 1 is happy)!\n",
        "    \n",
        "The training/test sets were quite similar; for example, all the pictures were taken against the same background (since a front door camera is always mounted in the same position). This makes the problem easier, but a model trained on this data may or may not work on your own data. But feel free to give it a try! "
      ]
    },
    {
      "cell_type": "code",
      "metadata": {
        "collapsed": true,
        "id": "xi_a6Zoj7_W8",
        "outputId": "6b79d0f3-42f9-4c44-f93a-a568ea17e0f0",
        "colab": {
          "base_uri": "https://localhost:8080/",
          "height": 287
        }
      },
      "source": [
        "### START CODE HERE ###\n",
        "img_path = 'images/my_image.jpg'\n",
        "### END CODE HERE ###\n",
        "img = image.load_img(img_path, target_size=(64, 64))\n",
        "imshow(img)\n",
        "\n",
        "x = image.img_to_array(img)\n",
        "x = np.expand_dims(x, axis=0)\n",
        "x = preprocess_input(x)\n",
        "\n",
        "print(happyModel.predict(x))"
      ],
      "execution_count": 17,
      "outputs": [
        {
          "output_type": "stream",
          "text": [
            "[[1.]]\n"
          ],
          "name": "stdout"
        },
        {
          "output_type": "display_data",
          "data": {
            "image/png": "[encoded data removed]",
            "text/plain": [
              "<Figure size 432x288 with 1 Axes>"
            ]
          },
          "metadata": {
            "needs_background": "light"
          }
        }
      ]
    },
    {
      "cell_type": "markdown",
      "metadata": {
        "id": "KWl20H_-7_W8"
      },
      "source": [
        "## 5 - Other useful functions in Keras (Optional)\n",
        "\n",
        "Two other basic features of Keras that you'll find useful are:\n",
        "- `model.summary()`: prints the details of your layers in a table with the sizes of its inputs/outputs\n",
        "- `plot_model()`: plots your graph in a nice layout. You can even save it as \".png\" using SVG() if you'd like to share it on social media ;). It is saved in \"File\" then \"Open...\" in the upper bar of the notebook.\n",
        "\n",
        "Run the following code."
      ]
    },
    {
      "cell_type": "code",
      "metadata": {
        "collapsed": true,
        "scrolled": false,
        "id": "icL_f-Pq7_W9",
        "outputId": "f244896e-e4a1-441d-ede2-4eedb4cba841",
        "colab": {
          "base_uri": "https://localhost:8080/"
        }
      },
      "source": [
        "happyModel.summary()"
      ],
      "execution_count": 14,
      "outputs": [
        {
          "output_type": "stream",
          "text": [
            "Model: \"HappyModel\"\n",
            "_________________________________________________________________\n",
            "Layer (type)                 Output Shape              Param #   \n",
            "=================================================================\n",
            "input_1 (InputLayer)         [(None, 64, 64, 3)]       0         \n",
            "_________________________________________________________________\n",
            "zero_padding2d (ZeroPadding2 (None, 70, 70, 3)         0         \n",
            "_________________________________________________________________\n",
            "conv0 (Conv2D)               (None, 64, 64, 32)        4736      \n",
            "_________________________________________________________________\n",
            "bn0 (BatchNormalization)     (None, 64, 64, 32)        128       \n",
            "_________________________________________________________________\n",
            "activation (Activation)      (None, 64, 64, 32)        0         \n",
            "_________________________________________________________________\n",
            "max_pool (MaxPooling2D)      (None, 32, 32, 32)        0         \n",
            "_________________________________________________________________\n",
            "flatten (Flatten)            (None, 32768)             0         \n",
            "_________________________________________________________________\n",
            "fc (Dense)                   (None, 1)                 32769     \n",
            "=================================================================\n",
            "Total params: 37,633\n",
            "Trainable params: 37,569\n",
            "Non-trainable params: 64\n",
            "_________________________________________________________________\n"
          ],
          "name": "stdout"
        }
      ]
    },
    {
      "cell_type": "code",
      "metadata": {
        "collapsed": true,
        "id": "5tYb0ac_7_W9",
        "outputId": "88322fb5-ecc7-4d13-c1e1-3ceb07a11c96",
        "colab": {
          "base_uri": "https://localhost:8080/",
          "height": 1000
        }
      },
      "source": [
        "plot_model(happyModel, to_file='HappyModel.png')\n",
        "SVG(model_to_dot(happyModel).create(prog='dot', format='svg'))"
      ],
      "execution_count": 15,
      "outputs": [
        {
          "output_type": "execute_result",
          "data": {
            "text/plain": [
              "<IPython.core.display.SVG object>"
            ],
            "image/svg+xml": "<svg height=\"741pt\" viewBox=\"0.00 0.00 219.00 556.00\" width=\"292pt\" xmlns=\"http://www.w3.org/2000/svg\" xmlns:xlink=\"http://www.w3.org/1999/xlink\">\n<g class=\"graph\" id=\"graph0\" transform=\"scale(1.3333 1.3333) rotate(0) translate(4 552)\">\n<title>G</title>\n<polygon fill=\"#ffffff\" points=\"-4,4 -4,-552 215,-552 215,4 -4,4\" stroke=\"transparent\"/>\n<!-- 140257663418256 -->\n<g class=\"node\" id=\"node1\">\n<title>140257663418256</title>\n<polygon fill=\"none\" points=\"39,-511.5 39,-547.5 172,-547.5 172,-511.5 39,-511.5\" stroke=\"#000000\"/>\n<text fill=\"#000000\" font-family=\"Times,serif\" font-size=\"14.00\" text-anchor=\"middle\" x=\"105.5\" y=\"-525.8\">input_1: InputLayer</text>\n</g>\n<!-- 140257663277328 -->\n<g class=\"node\" id=\"node2\">\n<title>140257663277328</title>\n<polygon fill=\"none\" points=\"0,-438.5 0,-474.5 211,-474.5 211,-438.5 0,-438.5\" stroke=\"#000000\"/>\n<text fill=\"#000000\" font-family=\"Times,serif\" font-size=\"14.00\" text-anchor=\"middle\" x=\"105.5\" y=\"-452.8\">zero_padding2d: ZeroPadding2D</text>\n</g>\n<!-- 140257663418256&#45;&gt;140257663277328 -->\n<g class=\"edge\" id=\"edge1\">\n<title>140257663418256-&gt;140257663277328</title>\n<path d=\"M105.5,-511.4551C105.5,-503.3828 105.5,-493.6764 105.5,-484.6817\" fill=\"none\" stroke=\"#000000\"/>\n<polygon fill=\"#000000\" points=\"109.0001,-484.5903 105.5,-474.5904 102.0001,-484.5904 109.0001,-484.5903\" stroke=\"#000000\"/>\n</g>\n<!-- 140257663007632 -->\n<g class=\"node\" id=\"node3\">\n<title>140257663007632</title>\n<polygon fill=\"none\" points=\"50.5,-365.5 50.5,-401.5 160.5,-401.5 160.5,-365.5 50.5,-365.5\" stroke=\"#000000\"/>\n<text fill=\"#000000\" font-family=\"Times,serif\" font-size=\"14.00\" text-anchor=\"middle\" x=\"105.5\" y=\"-379.8\">conv0: Conv2D</text>\n</g>\n<!-- 140257663277328&#45;&gt;140257663007632 -->\n<g class=\"edge\" id=\"edge2\">\n<title>140257663277328-&gt;140257663007632</title>\n<path d=\"M105.5,-438.4551C105.5,-430.3828 105.5,-420.6764 105.5,-411.6817\" fill=\"none\" stroke=\"#000000\"/>\n<polygon fill=\"#000000\" points=\"109.0001,-411.5903 105.5,-401.5904 102.0001,-411.5904 109.0001,-411.5903\" stroke=\"#000000\"/>\n</g>\n<!-- 140257662929424 -->\n<g class=\"node\" id=\"node4\">\n<title>140257662929424</title>\n<polygon fill=\"none\" points=\"25,-292.5 25,-328.5 186,-328.5 186,-292.5 25,-292.5\" stroke=\"#000000\"/>\n<text fill=\"#000000\" font-family=\"Times,serif\" font-size=\"14.00\" text-anchor=\"middle\" x=\"105.5\" y=\"-306.8\">bn0: BatchNormalization</text>\n</g>\n<!-- 140257663007632&#45;&gt;140257662929424 -->\n<g class=\"edge\" id=\"edge3\">\n<title>140257663007632-&gt;140257662929424</title>\n<path d=\"M105.5,-365.4551C105.5,-357.3828 105.5,-347.6764 105.5,-338.6817\" fill=\"none\" stroke=\"#000000\"/>\n<polygon fill=\"#000000\" points=\"109.0001,-338.5903 105.5,-328.5904 102.0001,-338.5904 109.0001,-338.5903\" stroke=\"#000000\"/>\n</g>\n<!-- 140257662930448 -->\n<g class=\"node\" id=\"node5\">\n<title>140257662930448</title>\n<polygon fill=\"none\" points=\"36,-219.5 36,-255.5 175,-255.5 175,-219.5 36,-219.5\" stroke=\"#000000\"/>\n<text fill=\"#000000\" font-family=\"Times,serif\" font-size=\"14.00\" text-anchor=\"middle\" x=\"105.5\" y=\"-233.8\">activation: Activation</text>\n</g>\n<!-- 140257662929424&#45;&gt;140257662930448 -->\n<g class=\"edge\" id=\"edge4\">\n<title>140257662929424-&gt;140257662930448</title>\n<path d=\"M105.5,-292.4551C105.5,-284.3828 105.5,-274.6764 105.5,-265.6817\" fill=\"none\" stroke=\"#000000\"/>\n<polygon fill=\"#000000\" points=\"109.0001,-265.5903 105.5,-255.5904 102.0001,-265.5904 109.0001,-265.5903\" stroke=\"#000000\"/>\n</g>\n<!-- 140257662527504 -->\n<g class=\"node\" id=\"node6\">\n<title>140257662527504</title>\n<polygon fill=\"none\" points=\"19,-146.5 19,-182.5 192,-182.5 192,-146.5 19,-146.5\" stroke=\"#000000\"/>\n<text fill=\"#000000\" font-family=\"Times,serif\" font-size=\"14.00\" text-anchor=\"middle\" x=\"105.5\" y=\"-160.8\">max_pool: MaxPooling2D</text>\n</g>\n<!-- 140257662930448&#45;&gt;140257662527504 -->\n<g class=\"edge\" id=\"edge5\">\n<title>140257662930448-&gt;140257662527504</title>\n<path d=\"M105.5,-219.4551C105.5,-211.3828 105.5,-201.6764 105.5,-192.6817\" fill=\"none\" stroke=\"#000000\"/>\n<polygon fill=\"#000000\" points=\"109.0001,-192.5903 105.5,-182.5904 102.0001,-192.5904 109.0001,-192.5903\" stroke=\"#000000\"/>\n</g>\n<!-- 140257612389072 -->\n<g class=\"node\" id=\"node7\">\n<title>140257612389072</title>\n<polygon fill=\"none\" points=\"56.5,-73.5 56.5,-109.5 154.5,-109.5 154.5,-73.5 56.5,-73.5\" stroke=\"#000000\"/>\n<text fill=\"#000000\" font-family=\"Times,serif\" font-size=\"14.00\" text-anchor=\"middle\" x=\"105.5\" y=\"-87.8\">flatten: Flatten</text>\n</g>\n<!-- 140257662527504&#45;&gt;140257612389072 -->\n<g class=\"edge\" id=\"edge6\">\n<title>140257662527504-&gt;140257612389072</title>\n<path d=\"M105.5,-146.4551C105.5,-138.3828 105.5,-128.6764 105.5,-119.6817\" fill=\"none\" stroke=\"#000000\"/>\n<polygon fill=\"#000000\" points=\"109.0001,-119.5903 105.5,-109.5904 102.0001,-119.5904 109.0001,-119.5903\" stroke=\"#000000\"/>\n</g>\n<!-- 140257612408144 -->\n<g class=\"node\" id=\"node8\">\n<title>140257612408144</title>\n<polygon fill=\"none\" points=\"70.5,-.5 70.5,-36.5 140.5,-36.5 140.5,-.5 70.5,-.5\" stroke=\"#000000\"/>\n<text fill=\"#000000\" font-family=\"Times,serif\" font-size=\"14.00\" text-anchor=\"middle\" x=\"105.5\" y=\"-14.8\">fc: Dense</text>\n</g>\n<!-- 140257612389072&#45;&gt;140257612408144 -->\n<g class=\"edge\" id=\"edge7\">\n<title>140257612389072-&gt;140257612408144</title>\n<path d=\"M105.5,-73.4551C105.5,-65.3828 105.5,-55.6764 105.5,-46.6817\" fill=\"none\" stroke=\"#000000\"/>\n<polygon fill=\"#000000\" points=\"109.0001,-46.5903 105.5,-36.5904 102.0001,-46.5904 109.0001,-46.5903\" stroke=\"#000000\"/>\n</g>\n</g>\n</svg>"
          },
          "metadata": {},
          "execution_count": 15
        }
      ]
    }
  ]
}