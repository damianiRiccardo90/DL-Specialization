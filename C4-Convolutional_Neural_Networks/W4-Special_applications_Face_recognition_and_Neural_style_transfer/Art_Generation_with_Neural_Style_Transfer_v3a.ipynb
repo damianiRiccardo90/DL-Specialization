{
  "cells": [
    {
      "cell_type": "markdown",
      "metadata": {
        "id": "view-in-github",
        "colab_type": "text"
      },
      "source": [
        "<a href=\"https://colab.research.google.com/github/damianiRiccardo90/DL-Specialization/blob/master/C4-Convolutional_Neural_Networks/W4-Special_applications_Face_recognition_and_Neural_style_transfer/Art_Generation_with_Neural_Style_Transfer_v3a.ipynb\" target=\"_parent\"><img src=\"https://colab.research.google.com/assets/colab-badge.svg\" alt=\"Open In Colab\"/></a>"
      ]
    },
    {
      "cell_type": "markdown",
      "metadata": {
        "id": "j4mw1ppV61mx"
      },
      "source": [
        "# Deep Learning & Art: Neural Style Transfer\n",
        "\n",
        "In this assignment, you will learn about Neural Style Transfer. This algorithm was created by [Gatys et al. (2015).](https://arxiv.org/abs/1508.06576)\n",
        "\n",
        "**In this assignment, you will:**\n",
        "- Implement the neural style transfer algorithm \n",
        "- Generate novel artistic images using your algorithm \n",
        "\n",
        "Most of the algorithms you've studied optimize a cost function to get a set of parameter values. In Neural Style Transfer, you'll optimize a cost function to get pixel values!"
      ]
    },
    {
      "cell_type": "markdown",
      "metadata": {
        "id": "LtguUjJA61m0"
      },
      "source": [
        "## <font color='darkblue'>Updates</font>\n",
        "\n",
        "#### If you were working on the notebook before this update...\n",
        "* The current notebook is version \"3a\".\n",
        "* You can find your original work saved in the notebook with the previous version name (\"v2\") \n",
        "* To view the file directory, go to the menu \"File->Open\", and this will open a new tab that shows the file directory.\n",
        "\n",
        "#### List of updates\n",
        "* Use `pprint.PrettyPrinter` to format printing of the vgg model.\n",
        "* computing content cost: clarified and reformatted instructions, fixed broken links, added additional hints for unrolling.\n",
        "* style matrix: clarify two uses of variable \"G\" by using different notation for gram matrix.\n",
        "* style cost: use distinct notation for gram matrix, added additional hints.\n",
        "* Grammar and wording updates for clarity.\n",
        "* `model_nn`: added hints."
      ]
    },
    {
      "cell_type": "code",
      "source": [
        "# Clone repository, necessary for importing stuff to Colab environment\n",
        "import os\n",
        "from subprocess import getoutput\n",
        "getoutput(\"git clone -l -s https://github.com/damianiRiccardo90/DL-Specialization DL-Specialization\")\n",
        "os.chdir(\"DL-Specialization/C4-Convolutional_Neural_Networks/W4-Special_applications_Face_recognition_and_Neural_style_transfer\")"
      ],
      "metadata": {
        "id": "BZxjsHgy67B4"
      },
      "execution_count": 5,
      "outputs": []
    },
    {
      "cell_type": "code",
      "source": [
        "!pip uninstall tensorflow == 2.3.0\n",
        "!pip install tensorflow == 1.15.5"
      ],
      "metadata": {
        "id": "cWCXfK1IKNxA"
      },
      "execution_count": null,
      "outputs": []
    },
    {
      "cell_type": "code",
      "execution_count": 6,
      "metadata": {
        "collapsed": true,
        "id": "AwkF5mjq61m0"
      },
      "outputs": [],
      "source": [
        "import os\n",
        "import sys\n",
        "import scipy.io\n",
        "import scipy.misc\n",
        "import matplotlib.pyplot as plt\n",
        "from matplotlib.pyplot import imshow\n",
        "from PIL import Image\n",
        "from nst_utils import *\n",
        "import numpy as np\n",
        "import tensorflow as tf\n",
        "import pprint\n",
        "%matplotlib inline"
      ]
    },
    {
      "cell_type": "markdown",
      "metadata": {
        "id": "LqwyPCYr61m1"
      },
      "source": [
        "## 1 - Problem Statement\n",
        "\n",
        "Neural Style Transfer (NST) is one of the most fun techniques in deep learning. As seen below, it merges two images, namely: a **\"content\" image (C) and a \"style\" image (S), to create a \"generated\" image (G**). \n",
        "\n",
        "The generated image G combines the \"content\" of the image C with the \"style\" of image S. \n",
        "\n",
        "In this example, you are going to generate an image of the Louvre museum in Paris (content image C), mixed with a painting by Claude Monet, a leader of the impressionist movement (style image S).\n",
        "<img src=\"https://github.com/damianiRiccardo90/DL-Specialization/blob/master/C4-Convolutional_Neural_Networks/W4-Special_applications_Face_recognition_and_Neural_style_transfer/images/louvre_generated.png?raw=1\" style=\"width:750px;height:200px;\">\n",
        "\n",
        "Let's see how you can do this. "
      ]
    },
    {
      "cell_type": "markdown",
      "metadata": {
        "id": "tCpvXl8T61m2"
      },
      "source": [
        "## 2 - Transfer Learning\n",
        "\n",
        "Neural Style Transfer (NST) uses a previously trained convolutional network, and builds on top of that. The idea of using a network trained on a different task and applying it to a new task is called transfer learning. \n",
        "\n",
        "Following the [original NST paper](https://arxiv.org/abs/1508.06576), we will use the VGG network. Specifically, we'll use VGG-19, a 19-layer version of the VGG network. This model has already been trained on the very large ImageNet database, and thus has learned to recognize a variety of low level features (at the shallower layers) and high level features (at the deeper layers). \n",
        "\n",
        "Run the following code to load parameters from the VGG model. This may take a few seconds. "
      ]
    },
    {
      "cell_type": "code",
      "source": [
        "!pip install kaggle\n",
        "!mkdir ~/.kaggle\n",
        "!cp kaggle.json ~/.kaggle/kaggle.json\n",
        "!chmod 600 /root/.kaggle/kaggle.json\n",
        "!kaggle datasets download -d teksab/imagenetvggverydeep19mat\n",
        "!unzip imagenetvggverydeep19mat.zip "
      ],
      "metadata": {
        "colab": {
          "base_uri": "https://localhost:8080/"
        },
        "id": "FyXkYIAAA96M",
        "outputId": "a09ae4b3-18b3-478d-e7e9-64aaeb87397e"
      },
      "execution_count": 8,
      "outputs": [
        {
          "output_type": "stream",
          "name": "stdout",
          "text": [
            "Requirement already satisfied: kaggle in /usr/local/lib/python3.7/dist-packages (1.5.12)\n",
            "Requirement already satisfied: six>=1.10 in /usr/local/lib/python3.7/dist-packages (from kaggle) (1.15.0)\n",
            "Requirement already satisfied: urllib3 in /usr/local/lib/python3.7/dist-packages (from kaggle) (1.24.3)\n",
            "Requirement already satisfied: requests in /usr/local/lib/python3.7/dist-packages (from kaggle) (2.23.0)\n",
            "Requirement already satisfied: python-dateutil in /usr/local/lib/python3.7/dist-packages (from kaggle) (2.8.2)\n",
            "Requirement already satisfied: tqdm in /usr/local/lib/python3.7/dist-packages (from kaggle) (4.62.3)\n",
            "Requirement already satisfied: certifi in /usr/local/lib/python3.7/dist-packages (from kaggle) (2021.10.8)\n",
            "Requirement already satisfied: python-slugify in /usr/local/lib/python3.7/dist-packages (from kaggle) (5.0.2)\n",
            "Requirement already satisfied: text-unidecode>=1.3 in /usr/local/lib/python3.7/dist-packages (from python-slugify->kaggle) (1.3)\n",
            "Requirement already satisfied: chardet<4,>=3.0.2 in /usr/local/lib/python3.7/dist-packages (from requests->kaggle) (3.0.4)\n",
            "Requirement already satisfied: idna<3,>=2.5 in /usr/local/lib/python3.7/dist-packages (from requests->kaggle) (2.10)\n",
            "mkdir: cannot create directory ‘/root/.kaggle’: File exists\n",
            "cp: cannot stat 'kaggle.json': No such file or directory\n",
            "Downloading imagenetvggverydeep19mat.zip to /content/DL-Specialization/C4-Convolutional_Neural_Networks/W4-Special_applications_Face_recognition_and_Neural_style_transfer\n",
            " 99% 505M/510M [00:02<00:00, 212MB/s]\n",
            "100% 510M/510M [00:02<00:00, 211MB/s]\n",
            "Archive:  imagenetvggverydeep19mat.zip\n",
            "  inflating: imagenet-vgg-verydeep-19.mat  \n"
          ]
        }
      ]
    },
    {
      "cell_type": "code",
      "execution_count": 10,
      "metadata": {
        "collapsed": true,
        "colab": {
          "base_uri": "https://localhost:8080/"
        },
        "id": "RKLP15b661m2",
        "outputId": "fef9cf72-422e-4cc8-f090-7becdc2404a8"
      },
      "outputs": [
        {
          "output_type": "stream",
          "name": "stdout",
          "text": [
            "{   'avgpool1': <tf.Tensor 'AvgPool:0' shape=(1, 150, 200, 64) dtype=float32>,\n",
            "    'avgpool2': <tf.Tensor 'AvgPool_1:0' shape=(1, 75, 100, 128) dtype=float32>,\n",
            "    'avgpool3': <tf.Tensor 'AvgPool_2:0' shape=(1, 38, 50, 256) dtype=float32>,\n",
            "    'avgpool4': <tf.Tensor 'AvgPool_3:0' shape=(1, 19, 25, 512) dtype=float32>,\n",
            "    'avgpool5': <tf.Tensor 'AvgPool_4:0' shape=(1, 10, 13, 512) dtype=float32>,\n",
            "    'conv1_1': <tf.Tensor 'Relu:0' shape=(1, 300, 400, 64) dtype=float32>,\n",
            "    'conv1_2': <tf.Tensor 'Relu_1:0' shape=(1, 300, 400, 64) dtype=float32>,\n",
            "    'conv2_1': <tf.Tensor 'Relu_2:0' shape=(1, 150, 200, 128) dtype=float32>,\n",
            "    'conv2_2': <tf.Tensor 'Relu_3:0' shape=(1, 150, 200, 128) dtype=float32>,\n",
            "    'conv3_1': <tf.Tensor 'Relu_4:0' shape=(1, 75, 100, 256) dtype=float32>,\n",
            "    'conv3_2': <tf.Tensor 'Relu_5:0' shape=(1, 75, 100, 256) dtype=float32>,\n",
            "    'conv3_3': <tf.Tensor 'Relu_6:0' shape=(1, 75, 100, 256) dtype=float32>,\n",
            "    'conv3_4': <tf.Tensor 'Relu_7:0' shape=(1, 75, 100, 256) dtype=float32>,\n",
            "    'conv4_1': <tf.Tensor 'Relu_8:0' shape=(1, 38, 50, 512) dtype=float32>,\n",
            "    'conv4_2': <tf.Tensor 'Relu_9:0' shape=(1, 38, 50, 512) dtype=float32>,\n",
            "    'conv4_3': <tf.Tensor 'Relu_10:0' shape=(1, 38, 50, 512) dtype=float32>,\n",
            "    'conv4_4': <tf.Tensor 'Relu_11:0' shape=(1, 38, 50, 512) dtype=float32>,\n",
            "    'conv5_1': <tf.Tensor 'Relu_12:0' shape=(1, 19, 25, 512) dtype=float32>,\n",
            "    'conv5_2': <tf.Tensor 'Relu_13:0' shape=(1, 19, 25, 512) dtype=float32>,\n",
            "    'conv5_3': <tf.Tensor 'Relu_14:0' shape=(1, 19, 25, 512) dtype=float32>,\n",
            "    'conv5_4': <tf.Tensor 'Relu_15:0' shape=(1, 19, 25, 512) dtype=float32>,\n",
            "    'input': <tf.Variable 'Variable:0' shape=(1, 300, 400, 3) dtype=float32_ref>}\n"
          ]
        }
      ],
      "source": [
        "pp = pprint.PrettyPrinter(indent=4)\n",
        "model = load_vgg_model(\"imagenet-vgg-verydeep-19.mat\")\n",
        "pp.pprint(model)"
      ]
    },
    {
      "cell_type": "markdown",
      "metadata": {
        "id": "HbfStV0R61m3"
      },
      "source": [
        "* The model is stored in a python dictionary.  \n",
        "* The python dictionary contains key-value pairs for each layer.  \n",
        "* The 'key' is the variable name and the 'value' is a tensor for that layer. \n",
        "\n",
        "#### Assign input image to the model's input layer\n",
        "To run an image through this network, you just have to feed the image to the model. In TensorFlow, you can do so using the [tf.assign](https://www.tensorflow.org/api_docs/python/tf/assign) function. In particular, you will use the assign function like this:  \n",
        "```python\n",
        "model[\"input\"].assign(image)\n",
        "```\n",
        "This assigns the image as an input to the model. \n",
        "\n",
        "#### Activate a layer\n",
        "After this, if you want to access the activations of a particular layer, say layer `4_2` when the network is run on this image, you would run a TensorFlow session on the correct tensor `conv4_2`, as follows:  \n",
        "```python\n",
        "sess.run(model[\"conv4_2\"])\n",
        "```"
      ]
    },
    {
      "cell_type": "markdown",
      "metadata": {
        "id": "9CDhh3JM61m4"
      },
      "source": [
        "## 3 - Neural Style Transfer (NST)\n",
        "\n",
        "We will build the Neural Style Transfer (NST) algorithm in three steps:\n",
        "\n",
        "- Build the content cost function $J_{content}(C,G)$\n",
        "- Build the style cost function $J_{style}(S,G)$\n",
        "- Put it together to get $J(G) = \\alpha J_{content}(C,G) + \\beta J_{style}(S,G)$. \n",
        "\n",
        "### 3.1 - Computing the content cost\n",
        "\n",
        "In our running example, the content image C will be the picture of the Louvre Museum in Paris. Run the code below to see a picture of the Louvre."
      ]
    },
    {
      "cell_type": "code",
      "execution_count": 13,
      "metadata": {
        "collapsed": true,
        "scrolled": true,
        "colab": {
          "base_uri": "https://localhost:8080/",
          "height": 269
        },
        "id": "iGy9aiA-61m4",
        "outputId": "b1f86a91-81fe-44c5-bde3-70108e0c08a1"
      },
      "outputs": [
        {
          "output_type": "display_data",
          "data": {
            "image/png": "[encoded data removed]",
            "text/plain": [
              "<Figure size 432x288 with 1 Axes>"
            ]
          },
          "metadata": {
            "needs_background": "light"
          }
        }
      ],
      "source": [
        "import imageio\n",
        "\n",
        "content_image = imageio.imread(\"images/louvre.jpg\")\n",
        "imshow(content_image);"
      ]
    },
    {
      "cell_type": "markdown",
      "metadata": {
        "id": "tueRBpqy61m4"
      },
      "source": [
        "The content image (C) shows the Louvre museum's pyramid surrounded by old Paris buildings, against a sunny sky with a few clouds.\n",
        "\n",
        "** 3.1.1 - Make generated image G match the content of image C**\n",
        "\n",
        "#### Shallower versus deeper layers\n",
        "* The shallower layers of a ConvNet tend to detect lower-level features such as edges and simple textures.\n",
        "* The deeper layers tend to detect higher-level features such as more complex textures as well as object classes. \n",
        "\n",
        "#### Choose a \"middle\" activation layer $a^{[l]}$\n",
        "We would like the \"generated\" image G to have similar content as the input image C. Suppose you have chosen some layer's activations to represent the content of an image. \n",
        "* In practice, you'll get the most visually pleasing results if you choose a layer in the **middle** of the network--neither too shallow nor too deep. \n",
        "* (After you have finished this exercise, feel free to come back and experiment with using different layers, to see how the results vary.)\n",
        "\n",
        "#### Forward propagate image \"C\"\n",
        "* Set the image C as the input to the pretrained VGG network, and run forward propagation.  \n",
        "* Let $a^{(C)}$ be the hidden layer activations in the layer you had chosen. (In lecture, we had written this as $a^{[l](C)}$, but here we'll drop the superscript $[l]$ to simplify the notation.) This will be an $n_H \\times n_W \\times n_C$ tensor.\n",
        "\n",
        "#### Forward propagate image \"G\"\n",
        "* Repeat this process with the image G: Set G as the input, and run forward progation. \n",
        "* Let $a^{(G)}$ be the corresponding hidden layer activation. \n",
        "\n",
        "#### Content Cost Function $J_{content}(C,G)$\n",
        "We will define the content cost function as:\n",
        "\n",
        "$$J_{content}(C,G) =  \\frac{1}{4 \\times n_H \\times n_W \\times n_C}\\sum _{ \\text{all entries}} (a^{(C)} - a^{(G)})^2\\tag{1} $$\n",
        "\n",
        "* Here, $n_H, n_W$ and $n_C$ are the height, width and number of channels of the hidden layer you have chosen, and appear in a normalization term in the cost. \n",
        "* For clarity, note that $a^{(C)}$ and $a^{(G)}$ are the 3D volumes corresponding to a hidden layer's activations. \n",
        "* In order to compute the cost $J_{content}(C,G)$, it might also be convenient to unroll these 3D volumes into a 2D matrix, as shown below.\n",
        "* Technically this unrolling step isn't needed to compute $J_{content}$, but it will be good practice for when you do need to carry out a similar operation later for computing the style cost $J_{style}$.\n",
        "\n",
        "<img src=\"https://github.com/damianiRiccardo90/DL-Specialization/blob/master/C4-Convolutional_Neural_Networks/W4-Special_applications_Face_recognition_and_Neural_style_transfer/images/NST_LOSS.png?raw=1\" style=\"width:800px;height:400px;\">"
      ]
    },
    {
      "cell_type": "markdown",
      "metadata": {
        "id": "-oJysQeo61m5"
      },
      "source": [
        "**Exercise:** Compute the \"content cost\" using TensorFlow. \n",
        "\n",
        "**Instructions**: The 3 steps to implement this function are:\n",
        "1. Retrieve dimensions from `a_G`: \n",
        "    - To retrieve dimensions from a tensor `X`, use: `X.get_shape().as_list()`\n",
        "2. Unroll `a_C` and `a_G` as explained in the picture above\n",
        "    - You'll likey want to use these functions: [tf.transpose](https://www.tensorflow.org/versions/r1.15/api_docs/python/tf/transpose) and [tf.reshape](https://www.tensorflow.org/versions/r1.15/api_docs/python/tf/reshape).\n",
        "3. Compute the content cost:\n",
        "    - You'll likely want to use these functions: [tf.reduce_sum](https://www.tensorflow.org/api_docs/python/tf/reduce_sum), [tf.square](https://www.tensorflow.org/api_docs/python/tf/square) and [tf.subtract](https://www.tensorflow.org/api_docs/python/tf/subtract).\n",
        "    \n",
        "    \n",
        "#### Additional Hints for \"Unrolling\"\n",
        "* To unroll the tensor, we want the shape to change from $(m,n_H,n_W,n_C)$ to $(m, n_H \\times n_W, n_C)$.\n",
        "* `tf.reshape(tensor, shape)` takes a list of integers that represent the desired output shape.\n",
        "* For the `shape` parameter, a `-1` tells the function to choose the correct dimension size so that the output tensor still contains all the values of the original tensor.\n",
        "* So tf.reshape(a_C, shape=[m, n_H * n_W, n_C]) gives the same result as tf.reshape(a_C, shape=[m, -1, n_C]).\n",
        "* If you prefer to re-order the dimensions, you can use `tf.transpose(tensor, perm)`, where `perm` is a list of integers containing the original index of the dimensions. \n",
        "* For example, `tf.transpose(a_C, perm=[0,3,1,2])` changes the dimensions from $(m, n_H, n_W, n_C)$ to $(m, n_C, n_H, n_W)$.\n",
        "* There is more than one way to unroll the tensors.\n",
        "* Notice that it's not necessary to use tf.transpose to 'unroll' the tensors in this case but this is a useful function to practice and understand for other situations that you'll encounter.\n"
      ]
    },
    {
      "cell_type": "code",
      "execution_count": null,
      "metadata": {
        "collapsed": true,
        "id": "7cNAQ-_L61m5"
      },
      "outputs": [],
      "source": [
        "# GRADED FUNCTION: compute_content_cost\n",
        "\n",
        "def compute_content_cost(a_C, a_G):\n",
        "    \"\"\"\n",
        "    Computes the content cost\n",
        "    \n",
        "    Arguments:\n",
        "    a_C -- tensor of dimension (1, n_H, n_W, n_C), hidden layer activations representing content of the image C \n",
        "    a_G -- tensor of dimension (1, n_H, n_W, n_C), hidden layer activations representing content of the image G\n",
        "    \n",
        "    Returns: \n",
        "    J_content -- scalar that you compute using equation 1 above.\n",
        "    \"\"\"\n",
        "    \n",
        "    ### START CODE HERE ###\n",
        "    # Retrieve dimensions from a_G (≈1 line)\n",
        "    m, n_H, n_W, n_C = None\n",
        "    \n",
        "    # Reshape a_C and a_G (≈2 lines)\n",
        "    a_C_unrolled = None\n",
        "    a_G_unrolled = None\n",
        "    \n",
        "    # compute the cost with tensorflow (≈1 line)\n",
        "    J_content = None\n",
        "    ### END CODE HERE ###\n",
        "    \n",
        "    return J_content"
      ]
    },
    {
      "cell_type": "code",
      "execution_count": null,
      "metadata": {
        "collapsed": true,
        "id": "KRmreJp261m6"
      },
      "outputs": [],
      "source": [
        "tf.reset_default_graph()\n",
        "\n",
        "with tf.Session() as test:\n",
        "    tf.set_random_seed(1)\n",
        "    a_C = tf.random_normal([1, 4, 4, 3], mean=1, stddev=4)\n",
        "    a_G = tf.random_normal([1, 4, 4, 3], mean=1, stddev=4)\n",
        "    J_content = compute_content_cost(a_C, a_G)\n",
        "    print(\"J_content = \" + str(J_content.eval()))"
      ]
    },
    {
      "cell_type": "markdown",
      "metadata": {
        "id": "6_s1Z4VA61m6"
      },
      "source": [
        "**Expected Output**:\n",
        "\n",
        "<table>\n",
        "    <tr>\n",
        "        <td>\n",
        "            **J_content**\n",
        "        </td>\n",
        "        <td>\n",
        "           6.76559\n",
        "        </td>\n",
        "    </tr>\n",
        "\n",
        "</table>"
      ]
    },
    {
      "cell_type": "markdown",
      "metadata": {
        "id": "gxWacsVG61m6"
      },
      "source": [
        "#### What you should remember\n",
        "- The content cost takes a hidden layer activation of the neural network, and measures how different $a^{(C)}$ and $a^{(G)}$ are. \n",
        "- When we minimize the content cost later, this will help make sure $G$ has similar content as $C$."
      ]
    },
    {
      "cell_type": "markdown",
      "metadata": {
        "id": "Nzu463PB61m6"
      },
      "source": [
        "### 3.2 - Computing the style cost\n",
        "\n",
        "For our running example, we will use the following style image: "
      ]
    },
    {
      "cell_type": "code",
      "execution_count": null,
      "metadata": {
        "collapsed": true,
        "id": "LFYjKuBQ61m7"
      },
      "outputs": [],
      "source": [
        "style_image = scipy.misc.imread(\"images/monet_800600.jpg\")\n",
        "imshow(style_image);"
      ]
    },
    {
      "cell_type": "markdown",
      "metadata": {
        "id": "TXLOsDo261m7"
      },
      "source": [
        "This was painted in the style of *[impressionism](https://en.wikipedia.org/wiki/Impressionism)*.\n",
        "\n",
        "Lets see how you can now define a \"style\" cost function $J_{style}(S,G)$. "
      ]
    },
    {
      "cell_type": "markdown",
      "metadata": {
        "id": "jBSNmYiB61m7"
      },
      "source": [
        "### 3.2.1 - Style matrix\n",
        "\n",
        "#### Gram matrix\n",
        "* The style matrix is also called a \"Gram matrix.\" \n",
        "* In linear algebra, the Gram matrix G of a set of vectors $(v_{1},\\dots ,v_{n})$ is the matrix of dot products, whose entries are ${\\displaystyle G_{ij} = v_{i}^T v_{j} = np.dot(v_{i}, v_{j})  }$. \n",
        "* In other words, $G_{ij}$ compares how similar $v_i$ is to $v_j$: If they are highly similar, you would expect them to have a large dot product, and thus for $G_{ij}$ to be large. \n",
        "\n",
        "#### Two meanings of the variable $G$\n",
        "* Note that there is an unfortunate collision in the variable names used here. We are following common terminology used in the literature. \n",
        "* $G$ is used to denote the Style matrix (or Gram matrix) \n",
        "* $G$ also denotes the generated image. \n",
        "* For this assignment, we will use $G_{gram}$ to refer to the Gram matrix, and $G$ to denote the generated image."
      ]
    },
    {
      "cell_type": "markdown",
      "metadata": {
        "id": "ggwJns0j61m7"
      },
      "source": [
        "\n",
        "#### Compute $G_{gram}$\n",
        "In Neural Style Transfer (NST), you can compute the Style matrix by multiplying the \"unrolled\" filter matrix with its transpose:\n",
        "\n",
        "<img src=\"https://github.com/damianiRiccardo90/DL-Specialization/blob/master/C4-Convolutional_Neural_Networks/W4-Special_applications_Face_recognition_and_Neural_style_transfer/images/NST_GM.png?raw=1\" style=\"width:900px;height:300px;\">\n",
        "\n",
        "$$\\mathbf{G}_{gram} = \\mathbf{A}_{unrolled} \\mathbf{A}_{unrolled}^T$$\n",
        "\n",
        "#### $G_{(gram)i,j}$: correlation\n",
        "The result is a matrix of dimension $(n_C,n_C)$ where $n_C$ is the number of filters (channels). The value $G_{(gram)i,j}$ measures how similar the activations of filter $i$ are to the activations of filter $j$. \n",
        "\n",
        "#### $G_{(gram),i,i}$: prevalence of patterns or textures\n",
        "* The diagonal elements $G_{(gram)ii}$ measure how \"active\" a filter $i$ is. \n",
        "* For example, suppose filter $i$ is detecting vertical textures in the image. Then $G_{(gram)ii}$ measures how common  vertical textures are in the image as a whole.\n",
        "* If $G_{(gram)ii}$ is large, this means that the image has a lot of vertical texture. \n",
        "\n",
        "\n",
        "By capturing the prevalence of different types of features ($G_{(gram)ii}$), as well as how much different features occur together ($G_{(gram)ij}$), the Style matrix $G_{gram}$ measures the style of an image. "
      ]
    },
    {
      "cell_type": "markdown",
      "metadata": {
        "id": "V4Sd-2iX61m8"
      },
      "source": [
        "**Exercise**:\n",
        "* Using TensorFlow, implement a function that computes the Gram matrix of a matrix A. \n",
        "* The formula is: The gram matrix of A is $G_A = AA^T$. \n",
        "* You may use these functions: [matmul](https://www.tensorflow.org/api_docs/python/tf/matmul) and [transpose](https://www.tensorflow.org/api_docs/python/tf/transpose)."
      ]
    },
    {
      "cell_type": "code",
      "execution_count": null,
      "metadata": {
        "collapsed": true,
        "id": "J79Aei3O61m8"
      },
      "outputs": [],
      "source": [
        "# GRADED FUNCTION: gram_matrix\n",
        "\n",
        "def gram_matrix(A):\n",
        "    \"\"\"\n",
        "    Argument:\n",
        "    A -- matrix of shape (n_C, n_H*n_W)\n",
        "    \n",
        "    Returns:\n",
        "    GA -- Gram matrix of A, of shape (n_C, n_C)\n",
        "    \"\"\"\n",
        "    \n",
        "    ### START CODE HERE ### (≈1 line)\n",
        "    GA = None\n",
        "    ### END CODE HERE ###\n",
        "    \n",
        "    return GA"
      ]
    },
    {
      "cell_type": "code",
      "execution_count": null,
      "metadata": {
        "collapsed": true,
        "id": "-NCKmmKg61m8"
      },
      "outputs": [],
      "source": [
        "tf.reset_default_graph()\n",
        "\n",
        "with tf.Session() as test:\n",
        "    tf.set_random_seed(1)\n",
        "    A = tf.random_normal([3, 2*1], mean=1, stddev=4)\n",
        "    GA = gram_matrix(A)\n",
        "    \n",
        "    print(\"GA = \\n\" + str(GA.eval()))"
      ]
    },
    {
      "cell_type": "markdown",
      "metadata": {
        "id": "L70qG8Cn61m8"
      },
      "source": [
        "**Expected Output**:\n",
        "\n",
        "<table>\n",
        "    <tr>\n",
        "        <td>\n",
        "            **GA**\n",
        "        </td>\n",
        "        <td>\n",
        "           [[  6.42230511  -4.42912197  -2.09668207] <br>\n",
        " [ -4.42912197  19.46583748  19.56387138] <br>\n",
        " [ -2.09668207  19.56387138  20.6864624 ]]\n",
        "        </td>\n",
        "    </tr>\n",
        "\n",
        "</table>"
      ]
    },
    {
      "cell_type": "markdown",
      "metadata": {
        "id": "Ua9ob92D61m8"
      },
      "source": [
        "### 3.2.2 - Style cost"
      ]
    },
    {
      "cell_type": "markdown",
      "metadata": {
        "id": "Ueu1toBI61m9"
      },
      "source": [
        "Your goal will be to minimize the distance between the Gram matrix of the \"style\" image S and the gram matrix of the \"generated\" image G. \n",
        "* For now, we are using only a single hidden layer $a^{[l]}$.  \n",
        "* The corresponding style cost for this layer is defined as: \n",
        "\n",
        "$$J_{style}^{[l]}(S,G) = \\frac{1}{4 \\times {n_C}^2 \\times (n_H \\times n_W)^2} \\sum _{i=1}^{n_C}\\sum_{j=1}^{n_C}(G^{(S)}_{(gram)i,j} - G^{(G)}_{(gram)i,j})^2\\tag{2} $$\n",
        "\n",
        "* $G_{gram}^{(S)}$ Gram matrix of the \"style\" image.\n",
        "* $G_{gram}^{(G)}$ Gram matrix of the \"generated\" image.\n",
        "* Remember, this cost is computed using the hidden layer activations for a particular hidden layer in the network $a^{[l]}$\n"
      ]
    },
    {
      "cell_type": "markdown",
      "metadata": {
        "id": "2zUFPt7P61m9"
      },
      "source": [
        "**Exercise**: Compute the style cost for a single layer. \n",
        "\n",
        "**Instructions**: The 3 steps to implement this function are:\n",
        "1. Retrieve dimensions from the hidden layer activations a_G: \n",
        "    - To retrieve dimensions from a tensor X, use: `X.get_shape().as_list()`\n",
        "2. Unroll the hidden layer activations a_S and a_G into 2D matrices, as explained in the picture above (see the images in the sections \"computing the content cost\" and \"style matrix\").\n",
        "    - You may use [tf.transpose](https://www.tensorflow.org/versions/r1.15/api_docs/python/tf/transpose) and [tf.reshape](https://www.tensorflow.org/versions/r1.15/api_docs/python/tf/reshape).\n",
        "3. Compute the Style matrix of the images S and G. (Use the function you had previously written.) \n",
        "4. Compute the Style cost:\n",
        "    - You may find [tf.reduce_sum](https://www.tensorflow.org/api_docs/python/tf/reduce_sum), [tf.square](https://www.tensorflow.org/api_docs/python/tf/square) and [tf.subtract](https://www.tensorflow.org/api_docs/python/tf/subtract) useful.\n",
        "    \n",
        "    \n",
        "#### Additional Hints\n",
        "* Since the activation dimensions are $(m, n_H, n_W, n_C)$ whereas the desired unrolled matrix shape is $(n_C, n_H*n_W)$, the order of the filter dimension $n_C$ is changed.  So `tf.transpose` can be used to change the order of the filter dimension.\n",
        "* for the product $\\mathbf{G}_{gram} = \\mathbf{A}_{} \\mathbf{A}_{}^T$, you will also need to specify the `perm` parameter for the `tf.transpose` function."
      ]
    },
    {
      "cell_type": "code",
      "execution_count": null,
      "metadata": {
        "collapsed": true,
        "id": "-6Md0QwD61m9"
      },
      "outputs": [],
      "source": [
        "# GRADED FUNCTION: compute_layer_style_cost\n",
        "\n",
        "def compute_layer_style_cost(a_S, a_G):\n",
        "    \"\"\"\n",
        "    Arguments:\n",
        "    a_S -- tensor of dimension (1, n_H, n_W, n_C), hidden layer activations representing style of the image S \n",
        "    a_G -- tensor of dimension (1, n_H, n_W, n_C), hidden layer activations representing style of the image G\n",
        "    \n",
        "    Returns: \n",
        "    J_style_layer -- tensor representing a scalar value, style cost defined above by equation (2)\n",
        "    \"\"\"\n",
        "    \n",
        "    ### START CODE HERE ###\n",
        "    # Retrieve dimensions from a_G (≈1 line)\n",
        "    m, n_H, n_W, n_C = None\n",
        "    \n",
        "    # Reshape the images to have them of shape (n_C, n_H*n_W) (≈2 lines)\n",
        "    a_S = None\n",
        "    a_G = None\n",
        "\n",
        "    # Computing gram_matrices for both images S and G (≈2 lines)\n",
        "    GS = None\n",
        "    GG = None\n",
        "\n",
        "    # Computing the loss (≈1 line)\n",
        "    J_style_layer = None\n",
        "    \n",
        "    ### END CODE HERE ###\n",
        "    \n",
        "    return J_style_layer"
      ]
    },
    {
      "cell_type": "code",
      "execution_count": null,
      "metadata": {
        "collapsed": true,
        "scrolled": false,
        "id": "-v4vyXOV61m9"
      },
      "outputs": [],
      "source": [
        "tf.reset_default_graph()\n",
        "\n",
        "with tf.Session() as test:\n",
        "    tf.set_random_seed(1)\n",
        "    a_S = tf.random_normal([1, 4, 4, 3], mean=1, stddev=4)\n",
        "    a_G = tf.random_normal([1, 4, 4, 3], mean=1, stddev=4)\n",
        "    J_style_layer = compute_layer_style_cost(a_S, a_G)\n",
        "    \n",
        "    print(\"J_style_layer = \" + str(J_style_layer.eval()))"
      ]
    },
    {
      "cell_type": "markdown",
      "metadata": {
        "id": "Dzx5vaju61m9"
      },
      "source": [
        "**Expected Output**:\n",
        "\n",
        "<table>\n",
        "    <tr>\n",
        "        <td>\n",
        "            **J_style_layer**\n",
        "        </td>\n",
        "        <td>\n",
        "           9.19028\n",
        "        </td>\n",
        "    </tr>\n",
        "\n",
        "</table>"
      ]
    },
    {
      "cell_type": "markdown",
      "metadata": {
        "id": "qEHhNDnx61m9"
      },
      "source": [
        "### 3.2.3 Style Weights\n",
        "\n",
        "* So far you have captured the style from only one layer. \n",
        "* We'll get better results if we \"merge\" style costs from several different layers. \n",
        "* Each layer will be given weights ($\\lambda^{[l]}$) that reflect how much each layer will contribute to the style.\n",
        "* After completing this exercise, feel free to come back and experiment with different weights to see how it changes the generated image $G$.\n",
        "* By default, we'll give each layer equal weight, and the weights add up to 1.  ($\\sum_{l}^L\\lambda^{[l]} = 1$)"
      ]
    },
    {
      "cell_type": "code",
      "execution_count": null,
      "metadata": {
        "collapsed": true,
        "id": "OtQ8TN-c61m9"
      },
      "outputs": [],
      "source": [
        "STYLE_LAYERS = [\n",
        "    ('conv1_1', 0.2),\n",
        "    ('conv2_1', 0.2),\n",
        "    ('conv3_1', 0.2),\n",
        "    ('conv4_1', 0.2),\n",
        "    ('conv5_1', 0.2)]"
      ]
    },
    {
      "cell_type": "markdown",
      "metadata": {
        "id": "xvE2Bkpt61m-"
      },
      "source": [
        "You can combine the style costs for different layers as follows:\n",
        "\n",
        "$$J_{style}(S,G) = \\sum_{l} \\lambda^{[l]} J^{[l]}_{style}(S,G)$$\n",
        "\n",
        "where the values for $\\lambda^{[l]}$ are given in `STYLE_LAYERS`. \n"
      ]
    },
    {
      "cell_type": "markdown",
      "metadata": {
        "id": "d2mU9BBB61m-"
      },
      "source": [
        "### Exercise: compute style cost\n",
        "\n",
        "* We've implemented a compute_style_cost(...) function. \n",
        "* It calls your `compute_layer_style_cost(...)` several times, and weights their results using the values in `STYLE_LAYERS`. \n",
        "* Please read over it to make sure you understand what it's doing. \n",
        "\n",
        "#### Description of `compute_style_cost`\n",
        "For each layer:\n",
        "* Select the activation (the output tensor) of the current layer.\n",
        "* Get the style of the style image \"S\" from the current layer.\n",
        "* Get the style of the generated image \"G\" from the current layer.\n",
        "* Compute the \"style cost\" for the current layer\n",
        "* Add the weighted style cost to the overall style cost (J_style)\n",
        "\n",
        "Once you're done with the loop:  \n",
        "* Return the overall style cost."
      ]
    },
    {
      "cell_type": "code",
      "execution_count": null,
      "metadata": {
        "collapsed": true,
        "id": "ALXTGyZj61m-"
      },
      "outputs": [],
      "source": [
        "def compute_style_cost(model, STYLE_LAYERS):\n",
        "    \"\"\"\n",
        "    Computes the overall style cost from several chosen layers\n",
        "    \n",
        "    Arguments:\n",
        "    model -- our tensorflow model\n",
        "    STYLE_LAYERS -- A python list containing:\n",
        "                        - the names of the layers we would like to extract style from\n",
        "                        - a coefficient for each of them\n",
        "    \n",
        "    Returns: \n",
        "    J_style -- tensor representing a scalar value, style cost defined above by equation (2)\n",
        "    \"\"\"\n",
        "    \n",
        "    # initialize the overall style cost\n",
        "    J_style = 0\n",
        "\n",
        "    for layer_name, coeff in STYLE_LAYERS:\n",
        "\n",
        "        # Select the output tensor of the currently selected layer\n",
        "        out = model[layer_name]\n",
        "\n",
        "        # Set a_S to be the hidden layer activation from the layer we have selected, by running the session on out\n",
        "        a_S = sess.run(out)\n",
        "\n",
        "        # Set a_G to be the hidden layer activation from same layer. Here, a_G references model[layer_name] \n",
        "        # and isn't evaluated yet. Later in the code, we'll assign the image G as the model input, so that\n",
        "        # when we run the session, this will be the activations drawn from the appropriate layer, with G as input.\n",
        "        a_G = out\n",
        "        \n",
        "        # Compute style_cost for the current layer\n",
        "        J_style_layer = compute_layer_style_cost(a_S, a_G)\n",
        "\n",
        "        # Add coeff * J_style_layer of this layer to overall style cost\n",
        "        J_style += coeff * J_style_layer\n",
        "\n",
        "    return J_style"
      ]
    },
    {
      "cell_type": "markdown",
      "metadata": {
        "id": "-SuTGody61m-"
      },
      "source": [
        "**Note**: In the inner-loop of the for-loop above, `a_G` is a tensor and hasn't been evaluated yet. It will be evaluated and updated at each iteration when we run the TensorFlow graph in model_nn() below.\n",
        "\n",
        "<!-- \n",
        "How do you choose the coefficients for each layer? The deeper layers capture higher-level concepts, and the features in the deeper layers are less localized in the image relative to each other. So if you want the generated image to softly follow the style image, try choosing larger weights for deeper layers and smaller weights for the first layers. In contrast, if you want the generated image to strongly follow the style image, try choosing smaller weights for deeper layers and larger weights for the first layers\n",
        "!-->\n",
        "\n",
        "\n",
        "\n",
        "## What you should remember\n",
        "- The style of an image can be represented using the Gram matrix of a hidden layer's activations. \n",
        "- We get even better results by combining this representation from multiple different layers. \n",
        "- This is in contrast to the content representation, where usually using just a single hidden layer is sufficient.\n",
        "- Minimizing the style cost will cause the image $G$ to follow the style of the image $S$. \n",
        "\n"
      ]
    },
    {
      "cell_type": "markdown",
      "metadata": {
        "id": "feTKBpEd61m-"
      },
      "source": [
        "### 3.3 - Defining the total cost to optimize"
      ]
    },
    {
      "cell_type": "markdown",
      "metadata": {
        "id": "ettMhXmd61m-"
      },
      "source": [
        "Finally, let's create a cost function that minimizes both the style and the content cost. The formula is: \n",
        "\n",
        "$$J(G) = \\alpha J_{content}(C,G) + \\beta J_{style}(S,G)$$\n",
        "\n",
        "**Exercise**: Implement the total cost function which includes both the content cost and the style cost. "
      ]
    },
    {
      "cell_type": "code",
      "execution_count": null,
      "metadata": {
        "collapsed": true,
        "id": "RED9S9Go61m-"
      },
      "outputs": [],
      "source": [
        "# GRADED FUNCTION: total_cost\n",
        "\n",
        "def total_cost(J_content, J_style, alpha = 10, beta = 40):\n",
        "    \"\"\"\n",
        "    Computes the total cost function\n",
        "    \n",
        "    Arguments:\n",
        "    J_content -- content cost coded above\n",
        "    J_style -- style cost coded above\n",
        "    alpha -- hyperparameter weighting the importance of the content cost\n",
        "    beta -- hyperparameter weighting the importance of the style cost\n",
        "    \n",
        "    Returns:\n",
        "    J -- total cost as defined by the formula above.\n",
        "    \"\"\"\n",
        "    \n",
        "    ### START CODE HERE ### (≈1 line)\n",
        "    J = None\n",
        "    ### END CODE HERE ###\n",
        "    \n",
        "    return J"
      ]
    },
    {
      "cell_type": "code",
      "execution_count": null,
      "metadata": {
        "collapsed": true,
        "id": "qR1TURqt61m_"
      },
      "outputs": [],
      "source": [
        "tf.reset_default_graph()\n",
        "\n",
        "with tf.Session() as test:\n",
        "    np.random.seed(3)\n",
        "    J_content = np.random.randn()    \n",
        "    J_style = np.random.randn()\n",
        "    J = total_cost(J_content, J_style)\n",
        "    print(\"J = \" + str(J))"
      ]
    },
    {
      "cell_type": "markdown",
      "metadata": {
        "id": "7g9AmQWa61m_"
      },
      "source": [
        "**Expected Output**:\n",
        "\n",
        "<table>\n",
        "    <tr>\n",
        "        <td>\n",
        "            **J**\n",
        "        </td>\n",
        "        <td>\n",
        "           35.34667875478276\n",
        "        </td>\n",
        "    </tr>\n",
        "\n",
        "</table>"
      ]
    },
    {
      "cell_type": "markdown",
      "metadata": {
        "id": "WZRhubVk61m_"
      },
      "source": [
        "\n",
        "## What you should remember\n",
        "- The total cost is a linear combination of the content cost $J_{content}(C,G)$ and the style cost $J_{style}(S,G)$.\n",
        "- $\\alpha$ and $\\beta$ are hyperparameters that control the relative weighting between content and style."
      ]
    },
    {
      "cell_type": "markdown",
      "metadata": {
        "id": "40P_Znva61m_"
      },
      "source": [
        "## 4 - Solving the optimization problem"
      ]
    },
    {
      "cell_type": "markdown",
      "metadata": {
        "id": "3lzEiH_y61m_"
      },
      "source": [
        "Finally, let's put everything together to implement Neural Style Transfer!\n",
        "\n",
        "\n",
        "Here's what the program will have to do:\n",
        "\n",
        "1. Create an Interactive Session\n",
        "2. Load the content image \n",
        "3. Load the style image\n",
        "4. Randomly initialize the image to be generated \n",
        "5. Load the VGG19 model\n",
        "7. Build the TensorFlow graph:\n",
        "    - Run the content image through the VGG19 model and compute the content cost\n",
        "    - Run the style image through the VGG19 model and compute the style cost\n",
        "    - Compute the total cost\n",
        "    - Define the optimizer and the learning rate\n",
        "8. Initialize the TensorFlow graph and run it for a large number of iterations, updating the generated image at every step.\n",
        "\n",
        "Lets go through the individual steps in detail. "
      ]
    },
    {
      "cell_type": "markdown",
      "metadata": {
        "id": "1zlzh-2w61m_"
      },
      "source": [
        "#### Interactive Sessions\n",
        "\n",
        "You've previously implemented the overall cost $J(G)$. We'll now set up TensorFlow to optimize this with respect to $G$. \n",
        "* To do so, your program has to reset the graph and use an \"[Interactive Session](https://www.tensorflow.org/api_docs/python/tf/InteractiveSession)\". \n",
        "* Unlike a regular session, the \"Interactive Session\" installs itself as the default session to build a graph.  \n",
        "* This allows you to run variables without constantly needing to refer to the session object (calling \"sess.run()\"), which simplifies the code.  \n",
        "\n",
        "#### Start the interactive session."
      ]
    },
    {
      "cell_type": "code",
      "execution_count": null,
      "metadata": {
        "collapsed": true,
        "id": "LDOM1OYt61m_"
      },
      "outputs": [],
      "source": [
        "# Reset the graph\n",
        "tf.reset_default_graph()\n",
        "\n",
        "# Start interactive session\n",
        "sess = tf.InteractiveSession()"
      ]
    },
    {
      "cell_type": "markdown",
      "metadata": {
        "id": "3sc2xUJ161nA"
      },
      "source": [
        "#### Content image\n",
        "Let's load, reshape, and normalize our \"content\" image (the Louvre museum picture):"
      ]
    },
    {
      "cell_type": "code",
      "execution_count": null,
      "metadata": {
        "collapsed": true,
        "id": "5Tu9q4mI61nA"
      },
      "outputs": [],
      "source": [
        "content_image = scipy.misc.imread(\"images/louvre_small.jpg\")\n",
        "content_image = reshape_and_normalize_image(content_image)"
      ]
    },
    {
      "cell_type": "markdown",
      "metadata": {
        "id": "W6FuVoc961nA"
      },
      "source": [
        "#### Style image\n",
        "Let's load, reshape and normalize our \"style\" image (Claude Monet's painting):"
      ]
    },
    {
      "cell_type": "code",
      "execution_count": null,
      "metadata": {
        "collapsed": true,
        "id": "YJRGZUcK61nA"
      },
      "outputs": [],
      "source": [
        "style_image = scipy.misc.imread(\"images/monet.jpg\")\n",
        "style_image = reshape_and_normalize_image(style_image)"
      ]
    },
    {
      "cell_type": "markdown",
      "metadata": {
        "id": "oaO58r-u61nA"
      },
      "source": [
        "#### Generated image correlated with content image\n",
        "Now, we initialize the \"generated\" image as a noisy image created from the content_image.\n",
        "\n",
        "* The generated image is slightly correlated with the content image.\n",
        "* By initializing the pixels of the generated image to be mostly noise but slightly correlated with the content image, this will help the content of the \"generated\" image more rapidly match the content of the \"content\" image. \n",
        "* Feel free to look in `nst_utils.py` to see the details of `generate_noise_image(...)`; to do so, click \"File-->Open...\" at the upper-left corner of this Jupyter notebook."
      ]
    },
    {
      "cell_type": "code",
      "execution_count": null,
      "metadata": {
        "collapsed": true,
        "id": "hGDQfh7Z61nA"
      },
      "outputs": [],
      "source": [
        "generated_image = generate_noise_image(content_image)\n",
        "imshow(generated_image[0]);"
      ]
    },
    {
      "cell_type": "markdown",
      "metadata": {
        "id": "JPDiyg8u61nA"
      },
      "source": [
        "#### Load pre-trained VGG19 model\n",
        "Next, as explained in part (2), let's load the VGG19 model."
      ]
    },
    {
      "cell_type": "code",
      "execution_count": null,
      "metadata": {
        "collapsed": true,
        "id": "f62C6dGu61nA"
      },
      "outputs": [],
      "source": [
        "model = load_vgg_model(\"pretrained-model/imagenet-vgg-verydeep-19.mat\")"
      ]
    },
    {
      "cell_type": "markdown",
      "metadata": {
        "id": "TifT-bAA61nA"
      },
      "source": [
        "#### Content Cost\n",
        "\n",
        "To get the program to compute the content cost, we will now assign `a_C` and `a_G` to be the appropriate hidden layer activations. We will use layer `conv4_2` to compute the content cost. The code below does the following:\n",
        "\n",
        "1. Assign the content image to be the input to the VGG model.\n",
        "2. Set a_C to be the tensor giving the hidden layer activation for layer \"conv4_2\".\n",
        "3. Set a_G to be the tensor giving the hidden layer activation for the same layer. \n",
        "4. Compute the content cost using a_C and a_G.\n",
        "\n",
        "**Note**: At this point, a_G is a tensor and hasn't been evaluated. It will be evaluated and updated at each iteration when we run the Tensorflow graph in model_nn() below."
      ]
    },
    {
      "cell_type": "code",
      "execution_count": null,
      "metadata": {
        "collapsed": true,
        "id": "PO8bSLsa61nB"
      },
      "outputs": [],
      "source": [
        "# Assign the content image to be the input of the VGG model.  \n",
        "sess.run(model['input'].assign(content_image))\n",
        "\n",
        "# Select the output tensor of layer conv4_2\n",
        "out = model['conv4_2']\n",
        "\n",
        "# Set a_C to be the hidden layer activation from the layer we have selected\n",
        "a_C = sess.run(out)\n",
        "\n",
        "# Set a_G to be the hidden layer activation from same layer. Here, a_G references model['conv4_2'] \n",
        "# and isn't evaluated yet. Later in the code, we'll assign the image G as the model input, so that\n",
        "# when we run the session, this will be the activations drawn from the appropriate layer, with G as input.\n",
        "a_G = out\n",
        "\n",
        "# Compute the content cost\n",
        "J_content = compute_content_cost(a_C, a_G)"
      ]
    },
    {
      "cell_type": "markdown",
      "metadata": {
        "id": "E65q8uhI61nB"
      },
      "source": [
        "#### Style cost"
      ]
    },
    {
      "cell_type": "code",
      "execution_count": null,
      "metadata": {
        "collapsed": true,
        "id": "ESr7pEj361nB"
      },
      "outputs": [],
      "source": [
        "# Assign the input of the model to be the \"style\" image \n",
        "sess.run(model['input'].assign(style_image))\n",
        "\n",
        "# Compute the style cost\n",
        "J_style = compute_style_cost(model, STYLE_LAYERS)"
      ]
    },
    {
      "cell_type": "markdown",
      "metadata": {
        "id": "A-8063Wg61nB"
      },
      "source": [
        "### Exercise: total cost\n",
        "* Now that you have J_content and J_style, compute the total cost J by calling `total_cost()`. \n",
        "* Use `alpha = 10` and `beta = 40`."
      ]
    },
    {
      "cell_type": "code",
      "execution_count": null,
      "metadata": {
        "collapsed": true,
        "id": "m7DB52vF61nB"
      },
      "outputs": [],
      "source": [
        "### START CODE HERE ### (1 line)\n",
        "J = None\n",
        "### END CODE HERE ###"
      ]
    },
    {
      "cell_type": "markdown",
      "metadata": {
        "id": "T9madhCF61nB"
      },
      "source": [
        "### Optimizer\n",
        "\n",
        "* Use the Adam optimizer to minimize the total cost `J`.\n",
        "* Use a learning rate of 2.0.  \n",
        "* [Adam Optimizer documentation](https://www.tensorflow.org/api_docs/python/tf/train/AdamOptimizer)"
      ]
    },
    {
      "cell_type": "code",
      "execution_count": null,
      "metadata": {
        "collapsed": true,
        "id": "f1JS0Vtc61nB"
      },
      "outputs": [],
      "source": [
        "# define optimizer (1 line)\n",
        "optimizer = tf.train.AdamOptimizer(2.0)\n",
        "\n",
        "# define train_step (1 line)\n",
        "train_step = optimizer.minimize(J)"
      ]
    },
    {
      "cell_type": "markdown",
      "metadata": {
        "id": "wQkB7_Ax61nC"
      },
      "source": [
        "### Exercise: implement the model\n",
        "\n",
        "* Implement the model_nn() function.  \n",
        "* The function **initializes** the variables of the tensorflow graph, \n",
        "* **assigns** the input image (initial generated image) as the input of the VGG19 model \n",
        "* and **runs** the `train_step` tensor (it was created in the code above this function) for a large number of steps.\n",
        "\n",
        "#### Hints\n",
        "* To initialize global variables, use this: \n",
        "```Python\n",
        "sess.run(tf.global_variables_initializer())\n",
        "```\n",
        "* Run `sess.run()` to evaluate a variable.\n",
        "* [assign](https://www.tensorflow.org/versions/r1.14/api_docs/python/tf/assign) can be used like this:\n",
        "```python\n",
        "model[\"input\"].assign(image)\n",
        "```\n"
      ]
    },
    {
      "cell_type": "code",
      "execution_count": null,
      "metadata": {
        "collapsed": true,
        "id": "-qsjHzAU61nC"
      },
      "outputs": [],
      "source": [
        "def model_nn(sess, input_image, num_iterations = 200):\n",
        "    \n",
        "    # Initialize global variables (you need to run the session on the initializer)\n",
        "    ### START CODE HERE ### (1 line)\n",
        "    None\n",
        "    ### END CODE HERE ###\n",
        "    \n",
        "    # Run the noisy input image (initial generated image) through the model. Use assign().\n",
        "    ### START CODE HERE ### (1 line)\n",
        "    None\n",
        "    ### END CODE HERE ###\n",
        "    \n",
        "    for i in range(num_iterations):\n",
        "    \n",
        "        # Run the session on the train_step to minimize the total cost\n",
        "        ### START CODE HERE ### (1 line)\n",
        "        None\n",
        "        ### END CODE HERE ###\n",
        "        \n",
        "        # Compute the generated image by running the session on the current model['input']\n",
        "        ### START CODE HERE ### (1 line)\n",
        "        generated_image = None\n",
        "        ### END CODE HERE ###\n",
        "\n",
        "        # Print every 20 iteration.\n",
        "        if i%20 == 0:\n",
        "            Jt, Jc, Js = sess.run([J, J_content, J_style])\n",
        "            print(\"Iteration \" + str(i) + \" :\")\n",
        "            print(\"total cost = \" + str(Jt))\n",
        "            print(\"content cost = \" + str(Jc))\n",
        "            print(\"style cost = \" + str(Js))\n",
        "            \n",
        "            # save current generated image in the \"/output\" directory\n",
        "            save_image(\"output/\" + str(i) + \".png\", generated_image)\n",
        "    \n",
        "    # save last generated image\n",
        "    save_image('output/generated_image.jpg', generated_image)\n",
        "    \n",
        "    return generated_image"
      ]
    },
    {
      "cell_type": "markdown",
      "metadata": {
        "id": "RY0Uccoh61nC"
      },
      "source": [
        "Run the following cell to generate an artistic image. It should take about 3min on CPU for every 20 iterations but you start observing attractive results after ≈140 iterations. Neural Style Transfer is generally trained using GPUs."
      ]
    },
    {
      "cell_type": "code",
      "execution_count": null,
      "metadata": {
        "collapsed": true,
        "scrolled": true,
        "id": "EEMSRrWr61nC"
      },
      "outputs": [],
      "source": [
        "model_nn(sess, generated_image)"
      ]
    },
    {
      "cell_type": "markdown",
      "metadata": {
        "id": "I_U77P2i61nC"
      },
      "source": [
        "**Expected Output**:\n",
        "\n",
        "<table>\n",
        "    <tr>\n",
        "        <td>\n",
        "            **Iteration 0 : **\n",
        "        </td>\n",
        "        <td>\n",
        "           total cost = 5.05035e+09 <br>\n",
        "           content cost = 7877.67 <br>\n",
        "           style cost = 1.26257e+08\n",
        "        </td>\n",
        "    </tr>\n",
        "\n",
        "</table>"
      ]
    },
    {
      "cell_type": "markdown",
      "metadata": {
        "id": "MGbeiYtg61nC"
      },
      "source": [
        "You're done! After running this, in the upper bar of the notebook click on \"File\" and then \"Open\". Go to the \"/output\" directory to see all the saved images. Open \"generated_image\" to see the generated image! :)\n",
        "\n",
        "You should see something the image presented below on the right:\n",
        "\n",
        "<img src=\"https://github.com/damianiRiccardo90/DL-Specialization/blob/master/C4-Convolutional_Neural_Networks/W4-Special_applications_Face_recognition_and_Neural_style_transfer/images/louvre_generated.png?raw=1\" style=\"width:800px;height:300px;\">\n",
        "\n",
        "We didn't want you to wait too long to see an initial result, and so had set the hyperparameters accordingly. To get the best looking results, running the optimization algorithm longer (and perhaps with a smaller learning rate) might work better. After completing and submitting this assignment, we encourage you to come back and play more with this notebook, and see if you can generate even better looking images. "
      ]
    },
    {
      "cell_type": "markdown",
      "metadata": {
        "id": "HOVJweZZ61nC"
      },
      "source": [
        "Here are few other examples:\n",
        "\n",
        "- The beautiful ruins of the ancient city of Persepolis (Iran) with the style of Van Gogh (The Starry Night)\n",
        "<img src=\"https://github.com/damianiRiccardo90/DL-Specialization/blob/master/C4-Convolutional_Neural_Networks/W4-Special_applications_Face_recognition_and_Neural_style_transfer/images/perspolis_vangogh.png?raw=1\" style=\"width:750px;height:300px;\">\n",
        "\n",
        "- The tomb of Cyrus the great in Pasargadae with the style of a Ceramic Kashi from Ispahan.\n",
        "<img src=\"https://github.com/damianiRiccardo90/DL-Specialization/blob/master/C4-Convolutional_Neural_Networks/W4-Special_applications_Face_recognition_and_Neural_style_transfer/images/pasargad_kashi.png?raw=1\" style=\"width:750px;height:300px;\">\n",
        "\n",
        "- A scientific study of a turbulent fluid with the style of a abstract blue fluid painting.\n",
        "<img src=\"https://github.com/damianiRiccardo90/DL-Specialization/blob/master/C4-Convolutional_Neural_Networks/W4-Special_applications_Face_recognition_and_Neural_style_transfer/images/circle_abstract.png?raw=1\" style=\"width:750px;height:300px;\">"
      ]
    },
    {
      "cell_type": "markdown",
      "metadata": {
        "id": "scN2cGoy61nC"
      },
      "source": [
        "## 5 - Test with your own image (Optional/Ungraded)"
      ]
    },
    {
      "cell_type": "markdown",
      "metadata": {
        "id": "kn5FP7a_61nD"
      },
      "source": [
        "Finally, you can also rerun the algorithm on your own images! \n",
        "\n",
        "To do so, go back to part 4 and change the content image and style image with your own pictures. In detail, here's what you should do:\n",
        "\n",
        "1. Click on \"File -> Open\" in the upper tab of the notebook\n",
        "2. Go to \"/images\" and upload your images (requirement: (WIDTH = 300, HEIGHT = 225)), rename them \"my_content.png\" and \"my_style.png\" for example.\n",
        "3. Change the code in part (3.4) from :\n",
        "```python\n",
        "content_image = scipy.misc.imread(\"images/louvre.jpg\")\n",
        "style_image = scipy.misc.imread(\"images/claude-monet.jpg\")\n",
        "```\n",
        "to:\n",
        "```python\n",
        "content_image = scipy.misc.imread(\"images/my_content.jpg\")\n",
        "style_image = scipy.misc.imread(\"images/my_style.jpg\")\n",
        "```\n",
        "4. Rerun the cells (you may need to restart the Kernel in the upper tab of the notebook).\n",
        "\n",
        "You can share your generated images with us on social media with the hashtag #deeplearniNgAI or by direct tagging!\n",
        "\n",
        "You can also tune your hyperparameters: \n",
        "- Which layers are responsible for representing the style? STYLE_LAYERS\n",
        "- How many iterations do you want to run the algorithm? num_iterations\n",
        "- What is the relative weighting between content and style? alpha/beta"
      ]
    },
    {
      "cell_type": "markdown",
      "metadata": {
        "id": "SNc3DMmm61nD"
      },
      "source": [
        "## 6 - Conclusion\n",
        "\n",
        "Great job on completing this assignment! You are now able to use Neural Style Transfer to generate artistic images. This is also your first time building a model in which the optimization algorithm updates the pixel values rather than the neural network's parameters. Deep learning has many different types of models and this is only one of them! \n",
        "\n",
        "## What you should remember\n",
        "- Neural Style Transfer is an algorithm that given a content image C and a style image S can generate an artistic image\n",
        "- It uses representations (hidden layer activations) based on a pretrained ConvNet. \n",
        "- The content cost function is computed using one hidden layer's activations.\n",
        "- The style cost function for one layer is computed using the Gram matrix of that layer's activations. The overall style cost function is obtained using several hidden layers.\n",
        "- Optimizing the total cost function results in synthesizing new images. \n",
        "\n",
        "\n"
      ]
    },
    {
      "cell_type": "markdown",
      "metadata": {
        "id": "x9QNsu3E61nD"
      },
      "source": [
        "# Congratulations on finishing the course!\n",
        "This was the final programming exercise of this course. Congratulations--you've finished all the programming exercises of this course on Convolutional Networks! We hope to also see you in Course 5, on Sequence models! \n"
      ]
    },
    {
      "cell_type": "markdown",
      "metadata": {
        "id": "oNktJb1d61nD"
      },
      "source": [
        "### References:\n",
        "\n",
        "The Neural Style Transfer algorithm was due to Gatys et al. (2015). Harish Narayanan and Github user \"log0\" also have highly readable write-ups from which we drew inspiration. The pre-trained network used in this implementation is a VGG network, which is due to Simonyan and Zisserman (2015). Pre-trained weights were from the work of the MathConvNet team. \n",
        "\n",
        "- Leon A. Gatys, Alexander S. Ecker, Matthias Bethge, (2015). [A Neural Algorithm of Artistic Style](https://arxiv.org/abs/1508.06576) \n",
        "- Harish Narayanan, [Convolutional neural networks for artistic style transfer.](https://harishnarayanan.org/writing/artistic-style-transfer/)\n",
        "- Log0, [TensorFlow Implementation of \"A Neural Algorithm of Artistic Style\".](http://www.chioka.in/tensorflow-implementation-neural-algorithm-of-artistic-style)\n",
        "- Karen Simonyan and Andrew Zisserman (2015). [Very deep convolutional networks for large-scale image recognition](https://arxiv.org/pdf/1409.1556.pdf)\n",
        "- [MatConvNet.](http://www.vlfeat.org/matconvnet/pretrained/)\n"
      ]
    }
  ],
  "metadata": {
    "coursera": {
      "course_slug": "convolutional-neural-networks",
      "graded_item_id": "owWbQ",
      "launcher_item_id": "lEthw"
    },
    "kernelspec": {
      "display_name": "Python 3",
      "language": "python",
      "name": "python3"
    },
    "language_info": {
      "codemirror_mode": {
        "name": "ipython",
        "version": 3
      },
      "file_extension": ".py",
      "mimetype": "text/x-python",
      "name": "python",
      "nbconvert_exporter": "python",
      "pygments_lexer": "ipython3",
      "version": "3.6.0"
    },
    "colab": {
      "name": "Art_Generation_with_Neural_Style_Transfer_v3a.ipynb",
      "provenance": [],
      "include_colab_link": true
    }
  },
  "nbformat": 4,
  "nbformat_minor": 0
}